{
  "nbformat": 4,
  "nbformat_minor": 0,
  "metadata": {
    "kernelspec": {
      "display_name": "Python 3",
      "language": "python",
      "name": "python3"
    },
    "language_info": {
      "codemirror_mode": {
        "name": "ipython",
        "version": 3
      },
      "file_extension": ".py",
      "mimetype": "text/x-python",
      "name": "python",
      "nbconvert_exporter": "python",
      "pygments_lexer": "ipython3",
      "version": "3.7.3"
    },
    "colab": {
      "name": "Assignment_8(1) (1).ipynb",
      "provenance": [],
      "collapsed_sections": []
    }
  },
  "cells": [
    {
      "cell_type": "markdown",
      "metadata": {
        "id": "D19PLf0dogw2"
      },
      "source": [
        "# Assignment 8 - Pandas\n",
        "\n",
        "### Due Thursday, June 10, 2021\n",
        "\n",
        "Your assignment should be handed in as an iPython/Jupyter notebook checked into your private GitHub repository `CMSC6950_Assignments` with the filename `Assignment_8.ipynb`. \n",
        "\n",
        "In this assignment we will use pandas to examine earthquake data.\n",
        "\n",
        "Start by importing pandas, numpy and matplotlib."
      ]
    },
    {
      "cell_type": "code",
      "metadata": {
        "id": "TLQadWBKogxA"
      },
      "source": [
        "import numpy as np\n",
        "import matplotlib.pyplot as plt\n",
        "import pandas as pd"
      ],
      "execution_count": 31,
      "outputs": []
    },
    {
      "cell_type": "markdown",
      "metadata": {
        "id": "uVvYeIYPogxC"
      },
      "source": [
        "A dataset has be retrieved .csv format from the [USGS Earthquakes Database](https://earthquake.usgs.gov/earthquakes/search/). It is located at:\n",
        "\n",
        "http://www.ldeo.columbia.edu/~rpa/usgs_earthquakes_2014.csv\n",
        "\n",
        "You don't even need to download it. You can open it directly with Pandas."
      ]
    },
    {
      "cell_type": "markdown",
      "metadata": {
        "id": "i8j4emFJogxD"
      },
      "source": [
        "### 1) Use Pandas' read_csv function directly on this url to open it as a DataFrame\n",
        "(Don't use any special options). Display the first few rows and the DataFrame info."
      ]
    },
    {
      "cell_type": "code",
      "metadata": {
        "colab": {
          "base_uri": "https://localhost:8080/",
          "height": 920
        },
        "id": "PuE6EQZvogxF",
        "outputId": "5682d747-73b8-478b-f509-b027cfd50e61"
      },
      "source": [
        "Earthquacks=pd.read_csv('http://www.ldeo.columbia.edu/~rpa/usgs_earthquakes_2014.csv')\n",
        "print(Earthquacks.info())\n",
        "Earthquacks.head(10)\n"
      ],
      "execution_count": 71,
      "outputs": [
        {
          "output_type": "stream",
          "text": [
            "<class 'pandas.core.frame.DataFrame'>\n",
            "RangeIndex: 120108 entries, 0 to 120107\n",
            "Data columns (total 15 columns):\n",
            " #   Column     Non-Null Count   Dtype  \n",
            "---  ------     --------------   -----  \n",
            " 0   time       120108 non-null  object \n",
            " 1   latitude   120108 non-null  float64\n",
            " 2   longitude  120108 non-null  float64\n",
            " 3   depth      120107 non-null  float64\n",
            " 4   mag        120065 non-null  float64\n",
            " 5   magType    120065 non-null  object \n",
            " 6   nst        59688 non-null   float64\n",
            " 7   gap        94935 non-null   float64\n",
            " 8   dmin       85682 non-null   float64\n",
            " 9   rms        119716 non-null  float64\n",
            " 10  net        120108 non-null  object \n",
            " 11  id         120108 non-null  object \n",
            " 12  updated    120108 non-null  object \n",
            " 13  place      120108 non-null  object \n",
            " 14  type       120108 non-null  object \n",
            "dtypes: float64(8), object(7)\n",
            "memory usage: 13.7+ MB\n",
            "None\n"
          ],
          "name": "stdout"
        },
        {
          "output_type": "execute_result",
          "data": {
            "text/html": [
              "<div>\n",
              "<style scoped>\n",
              "    .dataframe tbody tr th:only-of-type {\n",
              "        vertical-align: middle;\n",
              "    }\n",
              "\n",
              "    .dataframe tbody tr th {\n",
              "        vertical-align: top;\n",
              "    }\n",
              "\n",
              "    .dataframe thead th {\n",
              "        text-align: right;\n",
              "    }\n",
              "</style>\n",
              "<table border=\"1\" class=\"dataframe\">\n",
              "  <thead>\n",
              "    <tr style=\"text-align: right;\">\n",
              "      <th></th>\n",
              "      <th>time</th>\n",
              "      <th>latitude</th>\n",
              "      <th>longitude</th>\n",
              "      <th>depth</th>\n",
              "      <th>mag</th>\n",
              "      <th>magType</th>\n",
              "      <th>nst</th>\n",
              "      <th>gap</th>\n",
              "      <th>dmin</th>\n",
              "      <th>rms</th>\n",
              "      <th>net</th>\n",
              "      <th>id</th>\n",
              "      <th>updated</th>\n",
              "      <th>place</th>\n",
              "      <th>type</th>\n",
              "    </tr>\n",
              "  </thead>\n",
              "  <tbody>\n",
              "    <tr>\n",
              "      <th>0</th>\n",
              "      <td>2014-01-31 23:53:37.000</td>\n",
              "      <td>60.252000</td>\n",
              "      <td>-152.7081</td>\n",
              "      <td>90.20</td>\n",
              "      <td>1.10</td>\n",
              "      <td>ml</td>\n",
              "      <td>NaN</td>\n",
              "      <td>NaN</td>\n",
              "      <td>NaN</td>\n",
              "      <td>0.2900</td>\n",
              "      <td>ak</td>\n",
              "      <td>ak11155107</td>\n",
              "      <td>2014-02-05T19:34:41.515Z</td>\n",
              "      <td>26km S of Redoubt Volcano, Alaska</td>\n",
              "      <td>earthquake</td>\n",
              "    </tr>\n",
              "    <tr>\n",
              "      <th>1</th>\n",
              "      <td>2014-01-31 23:48:35.452</td>\n",
              "      <td>37.070300</td>\n",
              "      <td>-115.1309</td>\n",
              "      <td>0.00</td>\n",
              "      <td>1.33</td>\n",
              "      <td>ml</td>\n",
              "      <td>4.0</td>\n",
              "      <td>171.43</td>\n",
              "      <td>0.342000</td>\n",
              "      <td>0.0247</td>\n",
              "      <td>nn</td>\n",
              "      <td>nn00436847</td>\n",
              "      <td>2014-02-01T01:35:09.000Z</td>\n",
              "      <td>32km S of Alamo, Nevada</td>\n",
              "      <td>earthquake</td>\n",
              "    </tr>\n",
              "    <tr>\n",
              "      <th>2</th>\n",
              "      <td>2014-01-31 23:47:24.000</td>\n",
              "      <td>64.671700</td>\n",
              "      <td>-149.2528</td>\n",
              "      <td>7.10</td>\n",
              "      <td>1.30</td>\n",
              "      <td>ml</td>\n",
              "      <td>NaN</td>\n",
              "      <td>NaN</td>\n",
              "      <td>NaN</td>\n",
              "      <td>1.0000</td>\n",
              "      <td>ak</td>\n",
              "      <td>ak11151142</td>\n",
              "      <td>2014-02-01T00:03:53.010Z</td>\n",
              "      <td>12km NNW of North Nenana, Alaska</td>\n",
              "      <td>earthquake</td>\n",
              "    </tr>\n",
              "    <tr>\n",
              "      <th>3</th>\n",
              "      <td>2014-01-31 23:30:54.000</td>\n",
              "      <td>63.188700</td>\n",
              "      <td>-148.9575</td>\n",
              "      <td>96.50</td>\n",
              "      <td>0.80</td>\n",
              "      <td>ml</td>\n",
              "      <td>NaN</td>\n",
              "      <td>NaN</td>\n",
              "      <td>NaN</td>\n",
              "      <td>1.0700</td>\n",
              "      <td>ak</td>\n",
              "      <td>ak11151135</td>\n",
              "      <td>2014-01-31T23:41:25.007Z</td>\n",
              "      <td>22km S of Cantwell, Alaska</td>\n",
              "      <td>earthquake</td>\n",
              "    </tr>\n",
              "    <tr>\n",
              "      <th>4</th>\n",
              "      <td>2014-01-31 23:30:52.210</td>\n",
              "      <td>32.616833</td>\n",
              "      <td>-115.6925</td>\n",
              "      <td>10.59</td>\n",
              "      <td>1.34</td>\n",
              "      <td>ml</td>\n",
              "      <td>6.0</td>\n",
              "      <td>285.00</td>\n",
              "      <td>0.043210</td>\n",
              "      <td>0.2000</td>\n",
              "      <td>ci</td>\n",
              "      <td>ci37171541</td>\n",
              "      <td>2014-02-01T00:13:20.107Z</td>\n",
              "      <td>10km WNW of Progreso, Mexico</td>\n",
              "      <td>earthquake</td>\n",
              "    </tr>\n",
              "    <tr>\n",
              "      <th>5</th>\n",
              "      <td>2014-01-31 23:30:36.930</td>\n",
              "      <td>32.567667</td>\n",
              "      <td>-117.0135</td>\n",
              "      <td>0.01</td>\n",
              "      <td>1.51</td>\n",
              "      <td>ml</td>\n",
              "      <td>16.0</td>\n",
              "      <td>264.00</td>\n",
              "      <td>0.080810</td>\n",
              "      <td>0.2100</td>\n",
              "      <td>ci</td>\n",
              "      <td>ci11419722</td>\n",
              "      <td>2014-02-01T00:09:04.470Z</td>\n",
              "      <td>3km N of Tijuana, Mexico</td>\n",
              "      <td>quarry blast</td>\n",
              "    </tr>\n",
              "    <tr>\n",
              "      <th>6</th>\n",
              "      <td>2014-01-31 23:28:04.020</td>\n",
              "      <td>33.359000</td>\n",
              "      <td>-116.3605</td>\n",
              "      <td>12.98</td>\n",
              "      <td>1.17</td>\n",
              "      <td>ml</td>\n",
              "      <td>26.0</td>\n",
              "      <td>163.00</td>\n",
              "      <td>0.032660</td>\n",
              "      <td>0.1200</td>\n",
              "      <td>ci</td>\n",
              "      <td>ci11419714</td>\n",
              "      <td>2014-02-01T00:54:07.630Z</td>\n",
              "      <td>11km N of Borrego Springs, California</td>\n",
              "      <td>earthquake</td>\n",
              "    </tr>\n",
              "    <tr>\n",
              "      <th>7</th>\n",
              "      <td>2014-01-31 23:22:52.000</td>\n",
              "      <td>62.800200</td>\n",
              "      <td>-150.6965</td>\n",
              "      <td>86.40</td>\n",
              "      <td>1.50</td>\n",
              "      <td>ml</td>\n",
              "      <td>NaN</td>\n",
              "      <td>NaN</td>\n",
              "      <td>NaN</td>\n",
              "      <td>0.4700</td>\n",
              "      <td>ak</td>\n",
              "      <td>ak11151127</td>\n",
              "      <td>2014-01-31T23:33:23.190Z</td>\n",
              "      <td>61km NNW of Talkeetna, Alaska</td>\n",
              "      <td>earthquake</td>\n",
              "    </tr>\n",
              "    <tr>\n",
              "      <th>8</th>\n",
              "      <td>2014-01-31 23:20:42.000</td>\n",
              "      <td>58.169500</td>\n",
              "      <td>-151.9924</td>\n",
              "      <td>50.10</td>\n",
              "      <td>2.10</td>\n",
              "      <td>ml</td>\n",
              "      <td>NaN</td>\n",
              "      <td>NaN</td>\n",
              "      <td>NaN</td>\n",
              "      <td>0.3700</td>\n",
              "      <td>ak</td>\n",
              "      <td>ak11151125</td>\n",
              "      <td>2014-01-31T23:25:57.118Z</td>\n",
              "      <td>48km NNE of Kodiak, Alaska</td>\n",
              "      <td>earthquake</td>\n",
              "    </tr>\n",
              "    <tr>\n",
              "      <th>9</th>\n",
              "      <td>2014-01-31 23:17:34.300</td>\n",
              "      <td>37.686000</td>\n",
              "      <td>-121.7287</td>\n",
              "      <td>4.20</td>\n",
              "      <td>1.60</td>\n",
              "      <td>Md</td>\n",
              "      <td>NaN</td>\n",
              "      <td>111.60</td>\n",
              "      <td>0.062882</td>\n",
              "      <td>0.0700</td>\n",
              "      <td>nc</td>\n",
              "      <td>nc72153361</td>\n",
              "      <td>2014-02-11T22:43:08.085Z</td>\n",
              "      <td>3km E of Livermore, California</td>\n",
              "      <td>earthquake</td>\n",
              "    </tr>\n",
              "  </tbody>\n",
              "</table>\n",
              "</div>"
            ],
            "text/plain": [
              "                      time  ...          type\n",
              "0  2014-01-31 23:53:37.000  ...    earthquake\n",
              "1  2014-01-31 23:48:35.452  ...    earthquake\n",
              "2  2014-01-31 23:47:24.000  ...    earthquake\n",
              "3  2014-01-31 23:30:54.000  ...    earthquake\n",
              "4  2014-01-31 23:30:52.210  ...    earthquake\n",
              "5  2014-01-31 23:30:36.930  ...  quarry blast\n",
              "6  2014-01-31 23:28:04.020  ...    earthquake\n",
              "7  2014-01-31 23:22:52.000  ...    earthquake\n",
              "8  2014-01-31 23:20:42.000  ...    earthquake\n",
              "9  2014-01-31 23:17:34.300  ...    earthquake\n",
              "\n",
              "[10 rows x 15 columns]"
            ]
          },
          "metadata": {
            "tags": []
          },
          "execution_count": 71
        }
      ]
    },
    {
      "cell_type": "markdown",
      "metadata": {
        "id": "54g-aJ1sogxF"
      },
      "source": [
        "You should have seen that the dates were not automatically parsed into datetime \n",
        "\n",
        "---\n",
        "\n",
        "types.\n",
        "\n",
        "### 2) Re-read the data in such a way that all date columns are identified as dates and the earthquake id is used as the index\n",
        "\n",
        "Verify that this worked using the `head` and `info` functions.\n"
      ]
    },
    {
      "cell_type": "code",
      "metadata": {
        "colab": {
          "base_uri": "https://localhost:8080/",
          "height": 934
        },
        "id": "cR_XWknTogxI",
        "outputId": "dea6a33e-3c41-4a6f-814a-7f4d377516b4"
      },
      "source": [
        "Earthquacks=pd.read_csv('http://www.ldeo.columbia.edu/~rpa/usgs_earthquakes_2014.csv',parse_dates=['time'],index_col='id')\n",
        "print(Earthquacks.info())\n",
        "Earthquacks.head(10)\n"
      ],
      "execution_count": 81,
      "outputs": [
        {
          "output_type": "stream",
          "text": [
            "<class 'pandas.core.frame.DataFrame'>\n",
            "Index: 120108 entries, ak11155107 to ak11453389\n",
            "Data columns (total 14 columns):\n",
            " #   Column     Non-Null Count   Dtype         \n",
            "---  ------     --------------   -----         \n",
            " 0   time       120108 non-null  datetime64[ns]\n",
            " 1   latitude   120108 non-null  float64       \n",
            " 2   longitude  120108 non-null  float64       \n",
            " 3   depth      120107 non-null  float64       \n",
            " 4   mag        120065 non-null  float64       \n",
            " 5   magType    120065 non-null  object        \n",
            " 6   nst        59688 non-null   float64       \n",
            " 7   gap        94935 non-null   float64       \n",
            " 8   dmin       85682 non-null   float64       \n",
            " 9   rms        119716 non-null  float64       \n",
            " 10  net        120108 non-null  object        \n",
            " 11  updated    120108 non-null  object        \n",
            " 12  place      120108 non-null  object        \n",
            " 13  type       120108 non-null  object        \n",
            "dtypes: datetime64[ns](1), float64(8), object(5)\n",
            "memory usage: 13.7+ MB\n",
            "None\n"
          ],
          "name": "stdout"
        },
        {
          "output_type": "execute_result",
          "data": {
            "text/html": [
              "<div>\n",
              "<style scoped>\n",
              "    .dataframe tbody tr th:only-of-type {\n",
              "        vertical-align: middle;\n",
              "    }\n",
              "\n",
              "    .dataframe tbody tr th {\n",
              "        vertical-align: top;\n",
              "    }\n",
              "\n",
              "    .dataframe thead th {\n",
              "        text-align: right;\n",
              "    }\n",
              "</style>\n",
              "<table border=\"1\" class=\"dataframe\">\n",
              "  <thead>\n",
              "    <tr style=\"text-align: right;\">\n",
              "      <th></th>\n",
              "      <th>time</th>\n",
              "      <th>latitude</th>\n",
              "      <th>longitude</th>\n",
              "      <th>depth</th>\n",
              "      <th>mag</th>\n",
              "      <th>magType</th>\n",
              "      <th>nst</th>\n",
              "      <th>gap</th>\n",
              "      <th>dmin</th>\n",
              "      <th>rms</th>\n",
              "      <th>net</th>\n",
              "      <th>updated</th>\n",
              "      <th>place</th>\n",
              "      <th>type</th>\n",
              "    </tr>\n",
              "    <tr>\n",
              "      <th>id</th>\n",
              "      <th></th>\n",
              "      <th></th>\n",
              "      <th></th>\n",
              "      <th></th>\n",
              "      <th></th>\n",
              "      <th></th>\n",
              "      <th></th>\n",
              "      <th></th>\n",
              "      <th></th>\n",
              "      <th></th>\n",
              "      <th></th>\n",
              "      <th></th>\n",
              "      <th></th>\n",
              "      <th></th>\n",
              "    </tr>\n",
              "  </thead>\n",
              "  <tbody>\n",
              "    <tr>\n",
              "      <th>ak11155107</th>\n",
              "      <td>2014-01-31 23:53:37.000</td>\n",
              "      <td>60.252000</td>\n",
              "      <td>-152.7081</td>\n",
              "      <td>90.20</td>\n",
              "      <td>1.10</td>\n",
              "      <td>ml</td>\n",
              "      <td>NaN</td>\n",
              "      <td>NaN</td>\n",
              "      <td>NaN</td>\n",
              "      <td>0.2900</td>\n",
              "      <td>ak</td>\n",
              "      <td>2014-02-05T19:34:41.515Z</td>\n",
              "      <td>26km S of Redoubt Volcano, Alaska</td>\n",
              "      <td>earthquake</td>\n",
              "    </tr>\n",
              "    <tr>\n",
              "      <th>nn00436847</th>\n",
              "      <td>2014-01-31 23:48:35.452</td>\n",
              "      <td>37.070300</td>\n",
              "      <td>-115.1309</td>\n",
              "      <td>0.00</td>\n",
              "      <td>1.33</td>\n",
              "      <td>ml</td>\n",
              "      <td>4.0</td>\n",
              "      <td>171.43</td>\n",
              "      <td>0.342000</td>\n",
              "      <td>0.0247</td>\n",
              "      <td>nn</td>\n",
              "      <td>2014-02-01T01:35:09.000Z</td>\n",
              "      <td>32km S of Alamo, Nevada</td>\n",
              "      <td>earthquake</td>\n",
              "    </tr>\n",
              "    <tr>\n",
              "      <th>ak11151142</th>\n",
              "      <td>2014-01-31 23:47:24.000</td>\n",
              "      <td>64.671700</td>\n",
              "      <td>-149.2528</td>\n",
              "      <td>7.10</td>\n",
              "      <td>1.30</td>\n",
              "      <td>ml</td>\n",
              "      <td>NaN</td>\n",
              "      <td>NaN</td>\n",
              "      <td>NaN</td>\n",
              "      <td>1.0000</td>\n",
              "      <td>ak</td>\n",
              "      <td>2014-02-01T00:03:53.010Z</td>\n",
              "      <td>12km NNW of North Nenana, Alaska</td>\n",
              "      <td>earthquake</td>\n",
              "    </tr>\n",
              "    <tr>\n",
              "      <th>ak11151135</th>\n",
              "      <td>2014-01-31 23:30:54.000</td>\n",
              "      <td>63.188700</td>\n",
              "      <td>-148.9575</td>\n",
              "      <td>96.50</td>\n",
              "      <td>0.80</td>\n",
              "      <td>ml</td>\n",
              "      <td>NaN</td>\n",
              "      <td>NaN</td>\n",
              "      <td>NaN</td>\n",
              "      <td>1.0700</td>\n",
              "      <td>ak</td>\n",
              "      <td>2014-01-31T23:41:25.007Z</td>\n",
              "      <td>22km S of Cantwell, Alaska</td>\n",
              "      <td>earthquake</td>\n",
              "    </tr>\n",
              "    <tr>\n",
              "      <th>ci37171541</th>\n",
              "      <td>2014-01-31 23:30:52.210</td>\n",
              "      <td>32.616833</td>\n",
              "      <td>-115.6925</td>\n",
              "      <td>10.59</td>\n",
              "      <td>1.34</td>\n",
              "      <td>ml</td>\n",
              "      <td>6.0</td>\n",
              "      <td>285.00</td>\n",
              "      <td>0.043210</td>\n",
              "      <td>0.2000</td>\n",
              "      <td>ci</td>\n",
              "      <td>2014-02-01T00:13:20.107Z</td>\n",
              "      <td>10km WNW of Progreso, Mexico</td>\n",
              "      <td>earthquake</td>\n",
              "    </tr>\n",
              "    <tr>\n",
              "      <th>ci11419722</th>\n",
              "      <td>2014-01-31 23:30:36.930</td>\n",
              "      <td>32.567667</td>\n",
              "      <td>-117.0135</td>\n",
              "      <td>0.01</td>\n",
              "      <td>1.51</td>\n",
              "      <td>ml</td>\n",
              "      <td>16.0</td>\n",
              "      <td>264.00</td>\n",
              "      <td>0.080810</td>\n",
              "      <td>0.2100</td>\n",
              "      <td>ci</td>\n",
              "      <td>2014-02-01T00:09:04.470Z</td>\n",
              "      <td>3km N of Tijuana, Mexico</td>\n",
              "      <td>quarry blast</td>\n",
              "    </tr>\n",
              "    <tr>\n",
              "      <th>ci11419714</th>\n",
              "      <td>2014-01-31 23:28:04.020</td>\n",
              "      <td>33.359000</td>\n",
              "      <td>-116.3605</td>\n",
              "      <td>12.98</td>\n",
              "      <td>1.17</td>\n",
              "      <td>ml</td>\n",
              "      <td>26.0</td>\n",
              "      <td>163.00</td>\n",
              "      <td>0.032660</td>\n",
              "      <td>0.1200</td>\n",
              "      <td>ci</td>\n",
              "      <td>2014-02-01T00:54:07.630Z</td>\n",
              "      <td>11km N of Borrego Springs, California</td>\n",
              "      <td>earthquake</td>\n",
              "    </tr>\n",
              "    <tr>\n",
              "      <th>ak11151127</th>\n",
              "      <td>2014-01-31 23:22:52.000</td>\n",
              "      <td>62.800200</td>\n",
              "      <td>-150.6965</td>\n",
              "      <td>86.40</td>\n",
              "      <td>1.50</td>\n",
              "      <td>ml</td>\n",
              "      <td>NaN</td>\n",
              "      <td>NaN</td>\n",
              "      <td>NaN</td>\n",
              "      <td>0.4700</td>\n",
              "      <td>ak</td>\n",
              "      <td>2014-01-31T23:33:23.190Z</td>\n",
              "      <td>61km NNW of Talkeetna, Alaska</td>\n",
              "      <td>earthquake</td>\n",
              "    </tr>\n",
              "    <tr>\n",
              "      <th>ak11151125</th>\n",
              "      <td>2014-01-31 23:20:42.000</td>\n",
              "      <td>58.169500</td>\n",
              "      <td>-151.9924</td>\n",
              "      <td>50.10</td>\n",
              "      <td>2.10</td>\n",
              "      <td>ml</td>\n",
              "      <td>NaN</td>\n",
              "      <td>NaN</td>\n",
              "      <td>NaN</td>\n",
              "      <td>0.3700</td>\n",
              "      <td>ak</td>\n",
              "      <td>2014-01-31T23:25:57.118Z</td>\n",
              "      <td>48km NNE of Kodiak, Alaska</td>\n",
              "      <td>earthquake</td>\n",
              "    </tr>\n",
              "    <tr>\n",
              "      <th>nc72153361</th>\n",
              "      <td>2014-01-31 23:17:34.300</td>\n",
              "      <td>37.686000</td>\n",
              "      <td>-121.7287</td>\n",
              "      <td>4.20</td>\n",
              "      <td>1.60</td>\n",
              "      <td>Md</td>\n",
              "      <td>NaN</td>\n",
              "      <td>111.60</td>\n",
              "      <td>0.062882</td>\n",
              "      <td>0.0700</td>\n",
              "      <td>nc</td>\n",
              "      <td>2014-02-11T22:43:08.085Z</td>\n",
              "      <td>3km E of Livermore, California</td>\n",
              "      <td>earthquake</td>\n",
              "    </tr>\n",
              "  </tbody>\n",
              "</table>\n",
              "</div>"
            ],
            "text/plain": [
              "                              time  ...          type\n",
              "id                                  ...              \n",
              "ak11155107 2014-01-31 23:53:37.000  ...    earthquake\n",
              "nn00436847 2014-01-31 23:48:35.452  ...    earthquake\n",
              "ak11151142 2014-01-31 23:47:24.000  ...    earthquake\n",
              "ak11151135 2014-01-31 23:30:54.000  ...    earthquake\n",
              "ci37171541 2014-01-31 23:30:52.210  ...    earthquake\n",
              "ci11419722 2014-01-31 23:30:36.930  ...  quarry blast\n",
              "ci11419714 2014-01-31 23:28:04.020  ...    earthquake\n",
              "ak11151127 2014-01-31 23:22:52.000  ...    earthquake\n",
              "ak11151125 2014-01-31 23:20:42.000  ...    earthquake\n",
              "nc72153361 2014-01-31 23:17:34.300  ...    earthquake\n",
              "\n",
              "[10 rows x 14 columns]"
            ]
          },
          "metadata": {
            "tags": []
          },
          "execution_count": 81
        }
      ]
    },
    {
      "cell_type": "markdown",
      "metadata": {
        "id": "cQqMIG66ogxJ"
      },
      "source": [
        "### 3) Use `describe` to get the basic statistics of all the columns\n",
        "\n",
        "Note the highest and lowest magnitude of earthquakes in the databse."
      ]
    },
    {
      "cell_type": "code",
      "metadata": {
        "colab": {
          "base_uri": "https://localhost:8080/",
          "height": 297
        },
        "id": "ngDvwITaogxM",
        "outputId": "93a190b7-8acd-4f13-a178-4440e14e7b7d"
      },
      "source": [
        "Earthquacks.describe()"
      ],
      "execution_count": 80,
      "outputs": [
        {
          "output_type": "execute_result",
          "data": {
            "text/html": [
              "<div>\n",
              "<style scoped>\n",
              "    .dataframe tbody tr th:only-of-type {\n",
              "        vertical-align: middle;\n",
              "    }\n",
              "\n",
              "    .dataframe tbody tr th {\n",
              "        vertical-align: top;\n",
              "    }\n",
              "\n",
              "    .dataframe thead th {\n",
              "        text-align: right;\n",
              "    }\n",
              "</style>\n",
              "<table border=\"1\" class=\"dataframe\">\n",
              "  <thead>\n",
              "    <tr style=\"text-align: right;\">\n",
              "      <th></th>\n",
              "      <th>latitude</th>\n",
              "      <th>longitude</th>\n",
              "      <th>depth</th>\n",
              "      <th>mag</th>\n",
              "      <th>nst</th>\n",
              "      <th>gap</th>\n",
              "      <th>dmin</th>\n",
              "      <th>rms</th>\n",
              "    </tr>\n",
              "  </thead>\n",
              "  <tbody>\n",
              "    <tr>\n",
              "      <th>count</th>\n",
              "      <td>120108.000000</td>\n",
              "      <td>120108.000000</td>\n",
              "      <td>120107.000000</td>\n",
              "      <td>120065.000000</td>\n",
              "      <td>59688.000000</td>\n",
              "      <td>94935.000000</td>\n",
              "      <td>85682.000000</td>\n",
              "      <td>119716.000000</td>\n",
              "    </tr>\n",
              "    <tr>\n",
              "      <th>mean</th>\n",
              "      <td>38.399579</td>\n",
              "      <td>-99.961402</td>\n",
              "      <td>28.375029</td>\n",
              "      <td>1.793958</td>\n",
              "      <td>17.878284</td>\n",
              "      <td>124.048978</td>\n",
              "      <td>0.893198</td>\n",
              "      <td>0.358174</td>\n",
              "    </tr>\n",
              "    <tr>\n",
              "      <th>std</th>\n",
              "      <td>21.938258</td>\n",
              "      <td>82.996858</td>\n",
              "      <td>62.215416</td>\n",
              "      <td>1.343466</td>\n",
              "      <td>14.911369</td>\n",
              "      <td>68.518595</td>\n",
              "      <td>2.903966</td>\n",
              "      <td>0.364046</td>\n",
              "    </tr>\n",
              "    <tr>\n",
              "      <th>min</th>\n",
              "      <td>-73.462000</td>\n",
              "      <td>-179.998900</td>\n",
              "      <td>-9.900000</td>\n",
              "      <td>-0.970000</td>\n",
              "      <td>0.000000</td>\n",
              "      <td>9.000000</td>\n",
              "      <td>0.000000</td>\n",
              "      <td>0.000000</td>\n",
              "    </tr>\n",
              "    <tr>\n",
              "      <th>25%</th>\n",
              "      <td>34.228917</td>\n",
              "      <td>-147.742025</td>\n",
              "      <td>4.100000</td>\n",
              "      <td>0.820000</td>\n",
              "      <td>8.000000</td>\n",
              "      <td>74.000000</td>\n",
              "      <td>0.020760</td>\n",
              "      <td>0.070000</td>\n",
              "    </tr>\n",
              "    <tr>\n",
              "      <th>50%</th>\n",
              "      <td>38.805300</td>\n",
              "      <td>-120.832000</td>\n",
              "      <td>9.200000</td>\n",
              "      <td>1.400000</td>\n",
              "      <td>14.000000</td>\n",
              "      <td>107.000000</td>\n",
              "      <td>0.073670</td>\n",
              "      <td>0.200000</td>\n",
              "    </tr>\n",
              "    <tr>\n",
              "      <th>75%</th>\n",
              "      <td>53.889500</td>\n",
              "      <td>-116.068100</td>\n",
              "      <td>22.880000</td>\n",
              "      <td>2.400000</td>\n",
              "      <td>22.000000</td>\n",
              "      <td>155.000000</td>\n",
              "      <td>0.447000</td>\n",
              "      <td>0.590000</td>\n",
              "    </tr>\n",
              "    <tr>\n",
              "      <th>max</th>\n",
              "      <td>86.651400</td>\n",
              "      <td>179.998000</td>\n",
              "      <td>697.360000</td>\n",
              "      <td>8.200000</td>\n",
              "      <td>365.000000</td>\n",
              "      <td>356.400000</td>\n",
              "      <td>64.498000</td>\n",
              "      <td>8.460000</td>\n",
              "    </tr>\n",
              "  </tbody>\n",
              "</table>\n",
              "</div>"
            ],
            "text/plain": [
              "            latitude      longitude  ...          dmin            rms\n",
              "count  120108.000000  120108.000000  ...  85682.000000  119716.000000\n",
              "mean       38.399579     -99.961402  ...      0.893198       0.358174\n",
              "std        21.938258      82.996858  ...      2.903966       0.364046\n",
              "min       -73.462000    -179.998900  ...      0.000000       0.000000\n",
              "25%        34.228917    -147.742025  ...      0.020760       0.070000\n",
              "50%        38.805300    -120.832000  ...      0.073670       0.200000\n",
              "75%        53.889500    -116.068100  ...      0.447000       0.590000\n",
              "max        86.651400     179.998000  ...     64.498000       8.460000\n",
              "\n",
              "[8 rows x 8 columns]"
            ]
          },
          "metadata": {
            "tags": []
          },
          "execution_count": 80
        }
      ]
    },
    {
      "cell_type": "markdown",
      "metadata": {
        "id": "g-c80jDMogxO"
      },
      "source": [
        "### 4) Use `sort_values` to get the top 20 earthquakes by magnitude"
      ]
    },
    {
      "cell_type": "code",
      "metadata": {
        "colab": {
          "base_uri": "https://localhost:8080/",
          "height": 1000
        },
        "id": "lza_BpaLogxO",
        "outputId": "dc34526a-9255-41f7-ec12-12a510de0b19"
      },
      "source": [
        "Earthquacks.sort_values('mag',ascending=False).head(20)"
      ],
      "execution_count": 82,
      "outputs": [
        {
          "output_type": "execute_result",
          "data": {
            "text/html": [
              "<div>\n",
              "<style scoped>\n",
              "    .dataframe tbody tr th:only-of-type {\n",
              "        vertical-align: middle;\n",
              "    }\n",
              "\n",
              "    .dataframe tbody tr th {\n",
              "        vertical-align: top;\n",
              "    }\n",
              "\n",
              "    .dataframe thead th {\n",
              "        text-align: right;\n",
              "    }\n",
              "</style>\n",
              "<table border=\"1\" class=\"dataframe\">\n",
              "  <thead>\n",
              "    <tr style=\"text-align: right;\">\n",
              "      <th></th>\n",
              "      <th>time</th>\n",
              "      <th>latitude</th>\n",
              "      <th>longitude</th>\n",
              "      <th>depth</th>\n",
              "      <th>mag</th>\n",
              "      <th>magType</th>\n",
              "      <th>nst</th>\n",
              "      <th>gap</th>\n",
              "      <th>dmin</th>\n",
              "      <th>rms</th>\n",
              "      <th>net</th>\n",
              "      <th>updated</th>\n",
              "      <th>place</th>\n",
              "      <th>type</th>\n",
              "    </tr>\n",
              "    <tr>\n",
              "      <th>id</th>\n",
              "      <th></th>\n",
              "      <th></th>\n",
              "      <th></th>\n",
              "      <th></th>\n",
              "      <th></th>\n",
              "      <th></th>\n",
              "      <th></th>\n",
              "      <th></th>\n",
              "      <th></th>\n",
              "      <th></th>\n",
              "      <th></th>\n",
              "      <th></th>\n",
              "      <th></th>\n",
              "      <th></th>\n",
              "    </tr>\n",
              "  </thead>\n",
              "  <tbody>\n",
              "    <tr>\n",
              "      <th>usc000nzvd</th>\n",
              "      <td>2014-04-01 23:46:47.260</td>\n",
              "      <td>-19.6097</td>\n",
              "      <td>-70.7691</td>\n",
              "      <td>25.00</td>\n",
              "      <td>8.2</td>\n",
              "      <td>mww</td>\n",
              "      <td>NaN</td>\n",
              "      <td>23.0</td>\n",
              "      <td>0.609</td>\n",
              "      <td>0.66</td>\n",
              "      <td>us</td>\n",
              "      <td>2015-07-30T16:24:51.223Z</td>\n",
              "      <td>94km NW of Iquique, Chile</td>\n",
              "      <td>earthquake</td>\n",
              "    </tr>\n",
              "    <tr>\n",
              "      <th>usc000rki5</th>\n",
              "      <td>2014-06-23 20:53:09.700</td>\n",
              "      <td>51.8486</td>\n",
              "      <td>178.7352</td>\n",
              "      <td>109.00</td>\n",
              "      <td>7.9</td>\n",
              "      <td>mww</td>\n",
              "      <td>NaN</td>\n",
              "      <td>22.0</td>\n",
              "      <td>0.133</td>\n",
              "      <td>0.71</td>\n",
              "      <td>us</td>\n",
              "      <td>2015-04-18T21:54:08.699Z</td>\n",
              "      <td>19km SE of Little Sitkin Island, Alaska</td>\n",
              "      <td>earthquake</td>\n",
              "    </tr>\n",
              "    <tr>\n",
              "      <th>usc000p27i</th>\n",
              "      <td>2014-04-03 02:43:13.110</td>\n",
              "      <td>-20.5709</td>\n",
              "      <td>-70.4931</td>\n",
              "      <td>22.40</td>\n",
              "      <td>7.7</td>\n",
              "      <td>mww</td>\n",
              "      <td>NaN</td>\n",
              "      <td>44.0</td>\n",
              "      <td>1.029</td>\n",
              "      <td>0.82</td>\n",
              "      <td>us</td>\n",
              "      <td>2015-06-06T07:31:05.755Z</td>\n",
              "      <td>53km SW of Iquique, Chile</td>\n",
              "      <td>earthquake</td>\n",
              "    </tr>\n",
              "    <tr>\n",
              "      <th>usc000phx5</th>\n",
              "      <td>2014-04-12 20:14:39.300</td>\n",
              "      <td>-11.2701</td>\n",
              "      <td>162.1481</td>\n",
              "      <td>22.56</td>\n",
              "      <td>7.6</td>\n",
              "      <td>mww</td>\n",
              "      <td>NaN</td>\n",
              "      <td>13.0</td>\n",
              "      <td>2.828</td>\n",
              "      <td>0.71</td>\n",
              "      <td>us</td>\n",
              "      <td>2015-04-18T21:54:27.398Z</td>\n",
              "      <td>93km SSE of Kirakira, Solomon Islands</td>\n",
              "      <td>earthquake</td>\n",
              "    </tr>\n",
              "    <tr>\n",
              "      <th>usb000pr89</th>\n",
              "      <td>2014-04-19 13:28:00.810</td>\n",
              "      <td>-6.7547</td>\n",
              "      <td>155.0241</td>\n",
              "      <td>43.37</td>\n",
              "      <td>7.5</td>\n",
              "      <td>mww</td>\n",
              "      <td>NaN</td>\n",
              "      <td>16.0</td>\n",
              "      <td>3.820</td>\n",
              "      <td>1.25</td>\n",
              "      <td>us</td>\n",
              "      <td>2015-04-18T21:54:18.633Z</td>\n",
              "      <td>70km SW of Panguna, Papua New Guinea</td>\n",
              "      <td>earthquake</td>\n",
              "    </tr>\n",
              "    <tr>\n",
              "      <th>usc000piqj</th>\n",
              "      <td>2014-04-13 12:36:19.230</td>\n",
              "      <td>-11.4633</td>\n",
              "      <td>162.0511</td>\n",
              "      <td>39.00</td>\n",
              "      <td>7.4</td>\n",
              "      <td>mww</td>\n",
              "      <td>NaN</td>\n",
              "      <td>17.0</td>\n",
              "      <td>2.885</td>\n",
              "      <td>1.00</td>\n",
              "      <td>us</td>\n",
              "      <td>2015-08-13T19:29:13.018Z</td>\n",
              "      <td>112km S of Kirakira, Solomon Islands</td>\n",
              "      <td>earthquake</td>\n",
              "    </tr>\n",
              "    <tr>\n",
              "      <th>usb000slwn</th>\n",
              "      <td>2014-10-14 03:51:34.460</td>\n",
              "      <td>12.5262</td>\n",
              "      <td>-88.1225</td>\n",
              "      <td>40.00</td>\n",
              "      <td>7.3</td>\n",
              "      <td>mww</td>\n",
              "      <td>NaN</td>\n",
              "      <td>18.0</td>\n",
              "      <td>1.078</td>\n",
              "      <td>0.70</td>\n",
              "      <td>us</td>\n",
              "      <td>2015-08-13T19:35:02.679Z</td>\n",
              "      <td>74km S of Intipuca, El Salvador</td>\n",
              "      <td>earthquake</td>\n",
              "    </tr>\n",
              "    <tr>\n",
              "      <th>usb000pq41</th>\n",
              "      <td>2014-04-18 14:27:24.920</td>\n",
              "      <td>17.3970</td>\n",
              "      <td>-100.9723</td>\n",
              "      <td>24.00</td>\n",
              "      <td>7.2</td>\n",
              "      <td>mww</td>\n",
              "      <td>NaN</td>\n",
              "      <td>46.0</td>\n",
              "      <td>2.250</td>\n",
              "      <td>1.20</td>\n",
              "      <td>us</td>\n",
              "      <td>2015-08-13T19:30:39.599Z</td>\n",
              "      <td>33km ESE of Petatlan, Mexico</td>\n",
              "      <td>earthquake</td>\n",
              "    </tr>\n",
              "    <tr>\n",
              "      <th>usc000pft9</th>\n",
              "      <td>2014-04-11 07:07:23.130</td>\n",
              "      <td>-6.5858</td>\n",
              "      <td>155.0485</td>\n",
              "      <td>60.53</td>\n",
              "      <td>7.1</td>\n",
              "      <td>mww</td>\n",
              "      <td>NaN</td>\n",
              "      <td>21.0</td>\n",
              "      <td>3.729</td>\n",
              "      <td>0.88</td>\n",
              "      <td>us</td>\n",
              "      <td>2014-07-01T02:37:56.000Z</td>\n",
              "      <td>56km WSW of Panguna, Papua New Guinea</td>\n",
              "      <td>earthquake</td>\n",
              "    </tr>\n",
              "    <tr>\n",
              "      <th>usc000sxh8</th>\n",
              "      <td>2014-11-15 02:31:41.720</td>\n",
              "      <td>1.8929</td>\n",
              "      <td>126.5217</td>\n",
              "      <td>45.00</td>\n",
              "      <td>7.1</td>\n",
              "      <td>mww</td>\n",
              "      <td>NaN</td>\n",
              "      <td>18.0</td>\n",
              "      <td>1.397</td>\n",
              "      <td>0.71</td>\n",
              "      <td>us</td>\n",
              "      <td>2015-03-20T18:42:02.735Z</td>\n",
              "      <td>154km NW of Kota Ternate, Indonesia</td>\n",
              "      <td>earthquake</td>\n",
              "    </tr>\n",
              "    <tr>\n",
              "      <th>usc000stdc</th>\n",
              "      <td>2014-11-01 18:57:22.380</td>\n",
              "      <td>-19.6903</td>\n",
              "      <td>-177.7587</td>\n",
              "      <td>434.00</td>\n",
              "      <td>7.1</td>\n",
              "      <td>mww</td>\n",
              "      <td>NaN</td>\n",
              "      <td>13.0</td>\n",
              "      <td>4.415</td>\n",
              "      <td>0.84</td>\n",
              "      <td>us</td>\n",
              "      <td>2015-01-20T09:03:09.040Z</td>\n",
              "      <td>144km NE of Ndoi Island, Fiji</td>\n",
              "      <td>earthquake</td>\n",
              "    </tr>\n",
              "    <tr>\n",
              "      <th>usb000sk6k</th>\n",
              "      <td>2014-10-09 02:14:31.440</td>\n",
              "      <td>-32.1082</td>\n",
              "      <td>-110.8112</td>\n",
              "      <td>16.54</td>\n",
              "      <td>7.0</td>\n",
              "      <td>mww</td>\n",
              "      <td>NaN</td>\n",
              "      <td>22.0</td>\n",
              "      <td>5.127</td>\n",
              "      <td>0.43</td>\n",
              "      <td>us</td>\n",
              "      <td>2015-08-13T19:31:44.129Z</td>\n",
              "      <td>Southern East Pacific Rise</td>\n",
              "      <td>earthquake</td>\n",
              "    </tr>\n",
              "    <tr>\n",
              "      <th>usc000rngj</th>\n",
              "      <td>2014-06-29 07:52:55.170</td>\n",
              "      <td>-55.4703</td>\n",
              "      <td>-28.3669</td>\n",
              "      <td>8.00</td>\n",
              "      <td>6.9</td>\n",
              "      <td>mww</td>\n",
              "      <td>NaN</td>\n",
              "      <td>25.0</td>\n",
              "      <td>4.838</td>\n",
              "      <td>0.76</td>\n",
              "      <td>us</td>\n",
              "      <td>2014-09-26T11:49:45.000Z</td>\n",
              "      <td>154km NNW of Visokoi Island,</td>\n",
              "      <td>earthquake</td>\n",
              "    </tr>\n",
              "    <tr>\n",
              "      <th>usb000rzki</th>\n",
              "      <td>2014-08-03 00:22:03.680</td>\n",
              "      <td>0.8295</td>\n",
              "      <td>146.1688</td>\n",
              "      <td>13.00</td>\n",
              "      <td>6.9</td>\n",
              "      <td>mww</td>\n",
              "      <td>NaN</td>\n",
              "      <td>12.0</td>\n",
              "      <td>6.393</td>\n",
              "      <td>0.93</td>\n",
              "      <td>us</td>\n",
              "      <td>2014-10-29T19:52:55.000Z</td>\n",
              "      <td>Federated States of Micronesia region</td>\n",
              "      <td>earthquake</td>\n",
              "    </tr>\n",
              "    <tr>\n",
              "      <th>usc000rkg5</th>\n",
              "      <td>2014-06-23 19:19:15.940</td>\n",
              "      <td>-29.9772</td>\n",
              "      <td>-177.7247</td>\n",
              "      <td>20.00</td>\n",
              "      <td>6.9</td>\n",
              "      <td>mww</td>\n",
              "      <td>NaN</td>\n",
              "      <td>35.0</td>\n",
              "      <td>0.751</td>\n",
              "      <td>0.99</td>\n",
              "      <td>us</td>\n",
              "      <td>2014-09-19T17:23:16.000Z</td>\n",
              "      <td>80km SSE of Raoul Island, New Zealand</td>\n",
              "      <td>earthquake</td>\n",
              "    </tr>\n",
              "    <tr>\n",
              "      <th>usc000mnvj</th>\n",
              "      <td>2014-02-12 09:19:49.060</td>\n",
              "      <td>35.9053</td>\n",
              "      <td>82.5864</td>\n",
              "      <td>10.00</td>\n",
              "      <td>6.9</td>\n",
              "      <td>mww</td>\n",
              "      <td>NaN</td>\n",
              "      <td>18.0</td>\n",
              "      <td>7.496</td>\n",
              "      <td>0.83</td>\n",
              "      <td>us</td>\n",
              "      <td>2015-01-30T23:03:45.902Z</td>\n",
              "      <td>272km ESE of Hotan, China</td>\n",
              "      <td>earthquake</td>\n",
              "    </tr>\n",
              "    <tr>\n",
              "      <th>usb000ruzk</th>\n",
              "      <td>2014-07-21 14:54:41.000</td>\n",
              "      <td>-19.8015</td>\n",
              "      <td>-178.4001</td>\n",
              "      <td>615.42</td>\n",
              "      <td>6.9</td>\n",
              "      <td>mww</td>\n",
              "      <td>NaN</td>\n",
              "      <td>15.0</td>\n",
              "      <td>3.934</td>\n",
              "      <td>0.96</td>\n",
              "      <td>us</td>\n",
              "      <td>2014-10-17T21:12:13.000Z</td>\n",
              "      <td>99km NNE of Ndoi Island, Fiji</td>\n",
              "      <td>earthquake</td>\n",
              "    </tr>\n",
              "    <tr>\n",
              "      <th>usc000nzwm</th>\n",
              "      <td>2014-04-01 23:57:58.790</td>\n",
              "      <td>-19.8927</td>\n",
              "      <td>-70.9455</td>\n",
              "      <td>28.42</td>\n",
              "      <td>6.9</td>\n",
              "      <td>mww</td>\n",
              "      <td>NaN</td>\n",
              "      <td>119.0</td>\n",
              "      <td>0.828</td>\n",
              "      <td>0.93</td>\n",
              "      <td>us</td>\n",
              "      <td>2014-05-29T23:32:13.000Z</td>\n",
              "      <td>91km WNW of Iquique, Chile</td>\n",
              "      <td>earthquake</td>\n",
              "    </tr>\n",
              "    <tr>\n",
              "      <th>usb000r2hc</th>\n",
              "      <td>2014-05-24 09:25:02.440</td>\n",
              "      <td>40.2893</td>\n",
              "      <td>25.3889</td>\n",
              "      <td>6.43</td>\n",
              "      <td>6.9</td>\n",
              "      <td>mww</td>\n",
              "      <td>NaN</td>\n",
              "      <td>25.0</td>\n",
              "      <td>0.402</td>\n",
              "      <td>0.67</td>\n",
              "      <td>us</td>\n",
              "      <td>2015-01-28T09:17:17.266Z</td>\n",
              "      <td>22km SSW of Kamariotissa, Greece</td>\n",
              "      <td>earthquake</td>\n",
              "    </tr>\n",
              "    <tr>\n",
              "      <th>usc000rr6a</th>\n",
              "      <td>2014-07-07 11:23:54.780</td>\n",
              "      <td>14.7240</td>\n",
              "      <td>-92.4614</td>\n",
              "      <td>53.00</td>\n",
              "      <td>6.9</td>\n",
              "      <td>mww</td>\n",
              "      <td>NaN</td>\n",
              "      <td>51.0</td>\n",
              "      <td>0.263</td>\n",
              "      <td>1.38</td>\n",
              "      <td>us</td>\n",
              "      <td>2015-01-28T13:08:13.282Z</td>\n",
              "      <td>4km W of Puerto Madero, Mexico</td>\n",
              "      <td>earthquake</td>\n",
              "    </tr>\n",
              "  </tbody>\n",
              "</table>\n",
              "</div>"
            ],
            "text/plain": [
              "                              time  ...        type\n",
              "id                                  ...            \n",
              "usc000nzvd 2014-04-01 23:46:47.260  ...  earthquake\n",
              "usc000rki5 2014-06-23 20:53:09.700  ...  earthquake\n",
              "usc000p27i 2014-04-03 02:43:13.110  ...  earthquake\n",
              "usc000phx5 2014-04-12 20:14:39.300  ...  earthquake\n",
              "usb000pr89 2014-04-19 13:28:00.810  ...  earthquake\n",
              "usc000piqj 2014-04-13 12:36:19.230  ...  earthquake\n",
              "usb000slwn 2014-10-14 03:51:34.460  ...  earthquake\n",
              "usb000pq41 2014-04-18 14:27:24.920  ...  earthquake\n",
              "usc000pft9 2014-04-11 07:07:23.130  ...  earthquake\n",
              "usc000sxh8 2014-11-15 02:31:41.720  ...  earthquake\n",
              "usc000stdc 2014-11-01 18:57:22.380  ...  earthquake\n",
              "usb000sk6k 2014-10-09 02:14:31.440  ...  earthquake\n",
              "usc000rngj 2014-06-29 07:52:55.170  ...  earthquake\n",
              "usb000rzki 2014-08-03 00:22:03.680  ...  earthquake\n",
              "usc000rkg5 2014-06-23 19:19:15.940  ...  earthquake\n",
              "usc000mnvj 2014-02-12 09:19:49.060  ...  earthquake\n",
              "usb000ruzk 2014-07-21 14:54:41.000  ...  earthquake\n",
              "usc000nzwm 2014-04-01 23:57:58.790  ...  earthquake\n",
              "usb000r2hc 2014-05-24 09:25:02.440  ...  earthquake\n",
              "usc000rr6a 2014-07-07 11:23:54.780  ...  earthquake\n",
              "\n",
              "[20 rows x 14 columns]"
            ]
          },
          "metadata": {
            "tags": []
          },
          "execution_count": 82
        }
      ]
    },
    {
      "cell_type": "markdown",
      "metadata": {
        "id": "rq9UzBQoogxP"
      },
      "source": [
        "Examine the structure of the `place` column. The country information seems to be in there. How would you get it out?\n",
        "\n",
        "### 5) Extract the country using Pandas [text data functions](https://pandas.pydata.org/pandas-docs/stable/text.html)\n",
        "\n",
        "Add it as a new column to the dataframe. (Is it really just country? No, some rows have the name of a US state.)"
      ]
    },
    {
      "cell_type": "code",
      "metadata": {
        "tags": [],
        "id": "2TYFYGB0ogxQ"
      },
      "source": [
        "Earthquacks['Country']=Earthquacks['place'].str.extract('(\\,[a-zA-Z ]+)', expand=False).str.strip()\n",
        "Earthquacks['Country']=Earthquacks['Country'].str.replace(', ','')"
      ],
      "execution_count": 83,
      "outputs": []
    },
    {
      "cell_type": "code",
      "metadata": {
        "colab": {
          "base_uri": "https://localhost:8080/",
          "height": 320
        },
        "id": "OO-jQf3lKkEc",
        "outputId": "bb33dd06-eb7e-440c-aa88-369e1d950449"
      },
      "source": [
        "Earthquacks.head()"
      ],
      "execution_count": 37,
      "outputs": [
        {
          "output_type": "execute_result",
          "data": {
            "text/html": [
              "<div>\n",
              "<style scoped>\n",
              "    .dataframe tbody tr th:only-of-type {\n",
              "        vertical-align: middle;\n",
              "    }\n",
              "\n",
              "    .dataframe tbody tr th {\n",
              "        vertical-align: top;\n",
              "    }\n",
              "\n",
              "    .dataframe thead th {\n",
              "        text-align: right;\n",
              "    }\n",
              "</style>\n",
              "<table border=\"1\" class=\"dataframe\">\n",
              "  <thead>\n",
              "    <tr style=\"text-align: right;\">\n",
              "      <th></th>\n",
              "      <th>time</th>\n",
              "      <th>latitude</th>\n",
              "      <th>longitude</th>\n",
              "      <th>depth</th>\n",
              "      <th>mag</th>\n",
              "      <th>magType</th>\n",
              "      <th>nst</th>\n",
              "      <th>gap</th>\n",
              "      <th>dmin</th>\n",
              "      <th>rms</th>\n",
              "      <th>net</th>\n",
              "      <th>updated</th>\n",
              "      <th>place</th>\n",
              "      <th>type</th>\n",
              "      <th>Country</th>\n",
              "    </tr>\n",
              "    <tr>\n",
              "      <th>id</th>\n",
              "      <th></th>\n",
              "      <th></th>\n",
              "      <th></th>\n",
              "      <th></th>\n",
              "      <th></th>\n",
              "      <th></th>\n",
              "      <th></th>\n",
              "      <th></th>\n",
              "      <th></th>\n",
              "      <th></th>\n",
              "      <th></th>\n",
              "      <th></th>\n",
              "      <th></th>\n",
              "      <th></th>\n",
              "      <th></th>\n",
              "    </tr>\n",
              "  </thead>\n",
              "  <tbody>\n",
              "    <tr>\n",
              "      <th>ak11155107</th>\n",
              "      <td>2014-01-31 23:53:37.000</td>\n",
              "      <td>60.252000</td>\n",
              "      <td>-152.7081</td>\n",
              "      <td>90.20</td>\n",
              "      <td>1.10</td>\n",
              "      <td>ml</td>\n",
              "      <td>NaN</td>\n",
              "      <td>NaN</td>\n",
              "      <td>NaN</td>\n",
              "      <td>0.2900</td>\n",
              "      <td>ak</td>\n",
              "      <td>2014-02-05T19:34:41.515Z</td>\n",
              "      <td>26km S of Redoubt Volcano, Alaska</td>\n",
              "      <td>earthquake</td>\n",
              "      <td>Alaska</td>\n",
              "    </tr>\n",
              "    <tr>\n",
              "      <th>nn00436847</th>\n",
              "      <td>2014-01-31 23:48:35.452</td>\n",
              "      <td>37.070300</td>\n",
              "      <td>-115.1309</td>\n",
              "      <td>0.00</td>\n",
              "      <td>1.33</td>\n",
              "      <td>ml</td>\n",
              "      <td>4.0</td>\n",
              "      <td>171.43</td>\n",
              "      <td>0.34200</td>\n",
              "      <td>0.0247</td>\n",
              "      <td>nn</td>\n",
              "      <td>2014-02-01T01:35:09.000Z</td>\n",
              "      <td>32km S of Alamo, Nevada</td>\n",
              "      <td>earthquake</td>\n",
              "      <td>Nevada</td>\n",
              "    </tr>\n",
              "    <tr>\n",
              "      <th>ak11151142</th>\n",
              "      <td>2014-01-31 23:47:24.000</td>\n",
              "      <td>64.671700</td>\n",
              "      <td>-149.2528</td>\n",
              "      <td>7.10</td>\n",
              "      <td>1.30</td>\n",
              "      <td>ml</td>\n",
              "      <td>NaN</td>\n",
              "      <td>NaN</td>\n",
              "      <td>NaN</td>\n",
              "      <td>1.0000</td>\n",
              "      <td>ak</td>\n",
              "      <td>2014-02-01T00:03:53.010Z</td>\n",
              "      <td>12km NNW of North Nenana, Alaska</td>\n",
              "      <td>earthquake</td>\n",
              "      <td>Alaska</td>\n",
              "    </tr>\n",
              "    <tr>\n",
              "      <th>ak11151135</th>\n",
              "      <td>2014-01-31 23:30:54.000</td>\n",
              "      <td>63.188700</td>\n",
              "      <td>-148.9575</td>\n",
              "      <td>96.50</td>\n",
              "      <td>0.80</td>\n",
              "      <td>ml</td>\n",
              "      <td>NaN</td>\n",
              "      <td>NaN</td>\n",
              "      <td>NaN</td>\n",
              "      <td>1.0700</td>\n",
              "      <td>ak</td>\n",
              "      <td>2014-01-31T23:41:25.007Z</td>\n",
              "      <td>22km S of Cantwell, Alaska</td>\n",
              "      <td>earthquake</td>\n",
              "      <td>Alaska</td>\n",
              "    </tr>\n",
              "    <tr>\n",
              "      <th>ci37171541</th>\n",
              "      <td>2014-01-31 23:30:52.210</td>\n",
              "      <td>32.616833</td>\n",
              "      <td>-115.6925</td>\n",
              "      <td>10.59</td>\n",
              "      <td>1.34</td>\n",
              "      <td>ml</td>\n",
              "      <td>6.0</td>\n",
              "      <td>285.00</td>\n",
              "      <td>0.04321</td>\n",
              "      <td>0.2000</td>\n",
              "      <td>ci</td>\n",
              "      <td>2014-02-01T00:13:20.107Z</td>\n",
              "      <td>10km WNW of Progreso, Mexico</td>\n",
              "      <td>earthquake</td>\n",
              "      <td>Mexico</td>\n",
              "    </tr>\n",
              "  </tbody>\n",
              "</table>\n",
              "</div>"
            ],
            "text/plain": [
              "                              time   latitude  ...        type  Country\n",
              "id                                             ...                     \n",
              "ak11155107 2014-01-31 23:53:37.000  60.252000  ...  earthquake   Alaska\n",
              "nn00436847 2014-01-31 23:48:35.452  37.070300  ...  earthquake   Nevada\n",
              "ak11151142 2014-01-31 23:47:24.000  64.671700  ...  earthquake   Alaska\n",
              "ak11151135 2014-01-31 23:30:54.000  63.188700  ...  earthquake   Alaska\n",
              "ci37171541 2014-01-31 23:30:52.210  32.616833  ...  earthquake   Mexico\n",
              "\n",
              "[5 rows x 15 columns]"
            ]
          },
          "metadata": {
            "tags": []
          },
          "execution_count": 37
        }
      ]
    },
    {
      "cell_type": "code",
      "metadata": {
        "colab": {
          "base_uri": "https://localhost:8080/"
        },
        "id": "Xt7e4RImnK7f",
        "outputId": "56811a9c-a47c-491b-e7ea-9c863cfe8904"
      },
      "source": [
        "Earthquacks.type.unique()"
      ],
      "execution_count": 84,
      "outputs": [
        {
          "output_type": "execute_result",
          "data": {
            "text/plain": [
              "array(['earthquake', 'quarry blast', 'quarry', 'mining explosion',\n",
              "       'rock burst', 'explosion', 'landslide', 'sonicboom', 'sonic boom',\n",
              "       'anthropogenic event', 'acoustic noise'], dtype=object)"
            ]
          },
          "metadata": {
            "tags": []
          },
          "execution_count": 84
        }
      ]
    },
    {
      "cell_type": "markdown",
      "metadata": {
        "id": "KQHX-VxFogxS"
      },
      "source": [
        "### 6) Find the 10 states / countries with the highest _number_ of earthquakes"
      ]
    },
    {
      "cell_type": "code",
      "metadata": {
        "colab": {
          "base_uri": "https://localhost:8080/"
        },
        "id": "fj0pjxjqogxS",
        "outputId": "5ab5bb0c-5614-4feb-d0c9-7ac78597751d"
      },
      "source": [
        "country_grp=Earthquacks.groupby(['Country'])\n",
        "country_high_Eq=country_grp['type'].apply(lambda x: x.str.contains('earthquake').sum())\n",
        "country_high_Eq.sort_values(ascending=False).head(10)"
      ],
      "execution_count": 39,
      "outputs": [
        {
          "output_type": "execute_result",
          "data": {
            "text/plain": [
              "Country\n",
              "California     43774\n",
              "Alaska         33589\n",
              "Oregon          3014\n",
              "Nevada          2842\n",
              "Hawaii          2564\n",
              "Washington      2486\n",
              "Puerto Rico     2284\n",
              "Indonesia       2120\n",
              "Oklahoma        1992\n",
              "Montana         1991\n",
              "Name: type, dtype: int64"
            ]
          },
          "metadata": {
            "tags": []
          },
          "execution_count": 39
        }
      ]
    },
    {
      "cell_type": "markdown",
      "metadata": {
        "id": "naUWW219ogxT"
      },
      "source": [
        "\n",
        "\n",
        "\n",
        "\n",
        "\n",
        "\n",
        "\n",
        "\n",
        "\n",
        "\n",
        "\n",
        "\n",
        "\n",
        "\n",
        "\n",
        "\n",
        "\n",
        "\n",
        "\n",
        "\n",
        "\n",
        "\n",
        "\n",
        "\n",
        "\n",
        "\n",
        "\n",
        "\n",
        "\n",
        "\n",
        "\n",
        "\n",
        "\n",
        "\n",
        "\n",
        "\n",
        "\n",
        "\n",
        "\n",
        "\n",
        "\n",
        "\n",
        "\n",
        "\n",
        "\n",
        "\n",
        "\n",
        "\n",
        "\n",
        "\n",
        "\n",
        "\n",
        "\n",
        "\n",
        "\n",
        "\n",
        "\n",
        "\n",
        "\n",
        "\n",
        "\n",
        "\n",
        "\n",
        "\n",
        "\n",
        "\n",
        "\n",
        "\n",
        "\n",
        "\n",
        "\n",
        "### 7) Find the top 10 states / countries where the strongest and weakest earthquakes occured"
      ]
    },
    {
      "cell_type": "code",
      "metadata": {
        "colab": {
          "base_uri": "https://localhost:8080/"
        },
        "id": "hNjgGz56ogxV",
        "outputId": "17ed6ce7-9fe6-4bb3-a094-d72cb078774e"
      },
      "source": [
        "\n",
        "\n",
        "Earthquacks.groupby('Country')['mag'].max().sort_values(ascending=False).head(15)\n"
      ],
      "execution_count": 86,
      "outputs": [
        {
          "output_type": "execute_result",
          "data": {
            "text/plain": [
              "Country\n",
              "Chile                8.2\n",
              "Alaska               7.9\n",
              "Solomon Islands      7.6\n",
              "Papua New Guinea     7.5\n",
              "El Salvador          7.3\n",
              "Mexico               7.2\n",
              "Fiji                 7.1\n",
              "Indonesia            7.1\n",
              "Greece               6.9\n",
              "China                6.9\n",
              ",                    6.9\n",
              "New Zealand          6.9\n",
              "California           6.8\n",
              "Peru                 6.8\n",
              "Wallis and Futuna    6.7\n",
              "Name: mag, dtype: float64"
            ]
          },
          "metadata": {
            "tags": []
          },
          "execution_count": 86
        }
      ]
    },
    {
      "cell_type": "code",
      "metadata": {
        "colab": {
          "base_uri": "https://localhost:8080/"
        },
        "id": "mmDb844hojwK",
        "outputId": "f1725301-3484-4afb-f652-b893299c6759"
      },
      "source": [
        "Earthquacks.groupby('Country')['mag'].max().sort_values(ascending=True).head(10)"
      ],
      "execution_count": 41,
      "outputs": [
        {
          "output_type": "execute_result",
          "data": {
            "text/plain": [
              "Country\n",
              "Sierra Leone     0.00\n",
              "Vermont          1.00\n",
              "Rhode Island     1.71\n",
              "New Jersey       1.92\n",
              "Maine            2.00\n",
              "Pennsylvania     2.18\n",
              "CA               2.20\n",
              "Illinois         2.30\n",
              "New Hampshire    2.40\n",
              "Massachusetts    2.40\n",
              "Name: mag, dtype: float64"
            ]
          },
          "metadata": {
            "tags": []
          },
          "execution_count": 41
        }
      ]
    },
    {
      "cell_type": "markdown",
      "metadata": {
        "id": "nQqsNqYIogxW"
      },
      "source": [
        "It looks like US states are being treated differently from foreign countries. We would like to fix that.\n",
        "\n",
        "How can we tell if a name is a US state name? Python has a package for that: https://pypi.python.org/pypi/us!\n",
        "\n",
        "This is a good time to try installing a new package using `pip`. Pip is the original python package manager that predates `conda`. Basically `conda` is more oriented towards data science while `pip` is more general purpose. There are lots more packages on `pip` than on `conda`. You can read a [comparision](https://www.quora.com/What-is-the-comparison-among-conda-vs-pip-vs-anaconda) of these two utilities if you want to know more."
      ]
    },
    {
      "cell_type": "markdown",
      "metadata": {
        "id": "xjc7oJVcogxY"
      },
      "source": [
        "### 8) Install the `us` package using pip, either directly from the notebook or the command line\n",
        "\n",
        "The shell command is `pip install us`."
      ]
    },
    {
      "cell_type": "code",
      "metadata": {
        "id": "s_kaE5NSogxc",
        "colab": {
          "base_uri": "https://localhost:8080/"
        },
        "outputId": "c2d5a2b4-2b7d-4739-c66e-ca0528d34451"
      },
      "source": [
        "!pip install us"
      ],
      "execution_count": 87,
      "outputs": [
        {
          "output_type": "stream",
          "text": [
            "Requirement already satisfied: us in /usr/local/lib/python3.7/dist-packages (2.0.2)\n",
            "Requirement already satisfied: jellyfish==0.6.1 in /usr/local/lib/python3.7/dist-packages (from us) (0.6.1)\n"
          ],
          "name": "stdout"
        }
      ]
    },
    {
      "cell_type": "markdown",
      "metadata": {
        "id": "SOEbXfHiogxc"
      },
      "source": [
        "### 9) Import the `us` package to verify your installation works"
      ]
    },
    {
      "cell_type": "code",
      "metadata": {
        "tags": [],
        "id": "aTWwU5F2ogxd"
      },
      "source": [
        "import us"
      ],
      "execution_count": 88,
      "outputs": []
    },
    {
      "cell_type": "markdown",
      "metadata": {
        "id": "K2x-EL12ogxe"
      },
      "source": [
        "### 10) Read the [`us` documentation](https://pypi.python.org/pypi/us) to figure out how to create a list of state names (all upper case)"
      ]
    },
    {
      "cell_type": "code",
      "metadata": {
        "tags": [],
        "id": "A5ez23AAogxe",
        "colab": {
          "base_uri": "https://localhost:8080/"
        },
        "outputId": "127d398c-a017-49be-d150-e101264a66ab"
      },
      "source": [
        "state_names=[state.name.upper() for state in us.states.STATES]\n",
        "state_names"
      ],
      "execution_count": 91,
      "outputs": [
        {
          "output_type": "execute_result",
          "data": {
            "text/plain": [
              "['ALABAMA',\n",
              " 'ALASKA',\n",
              " 'ARIZONA',\n",
              " 'ARKANSAS',\n",
              " 'CALIFORNIA',\n",
              " 'COLORADO',\n",
              " 'CONNECTICUT',\n",
              " 'DELAWARE',\n",
              " 'FLORIDA',\n",
              " 'GEORGIA',\n",
              " 'HAWAII',\n",
              " 'IDAHO',\n",
              " 'ILLINOIS',\n",
              " 'INDIANA',\n",
              " 'IOWA',\n",
              " 'KANSAS',\n",
              " 'KENTUCKY',\n",
              " 'LOUISIANA',\n",
              " 'MAINE',\n",
              " 'MARYLAND',\n",
              " 'MASSACHUSETTS',\n",
              " 'MICHIGAN',\n",
              " 'MINNESOTA',\n",
              " 'MISSISSIPPI',\n",
              " 'MISSOURI',\n",
              " 'MONTANA',\n",
              " 'NEBRASKA',\n",
              " 'NEVADA',\n",
              " 'NEW HAMPSHIRE',\n",
              " 'NEW JERSEY',\n",
              " 'NEW MEXICO',\n",
              " 'NEW YORK',\n",
              " 'NORTH CAROLINA',\n",
              " 'NORTH DAKOTA',\n",
              " 'OHIO',\n",
              " 'OKLAHOMA',\n",
              " 'OREGON',\n",
              " 'PENNSYLVANIA',\n",
              " 'RHODE ISLAND',\n",
              " 'SOUTH CAROLINA',\n",
              " 'SOUTH DAKOTA',\n",
              " 'TENNESSEE',\n",
              " 'TEXAS',\n",
              " 'UTAH',\n",
              " 'VERMONT',\n",
              " 'VIRGINIA',\n",
              " 'WASHINGTON',\n",
              " 'WEST VIRGINIA',\n",
              " 'WISCONSIN',\n",
              " 'WYOMING']"
            ]
          },
          "metadata": {
            "tags": []
          },
          "execution_count": 91
        }
      ]
    },
    {
      "cell_type": "markdown",
      "metadata": {
        "id": "C5Z99SfEogxf"
      },
      "source": [
        "### 11) Write a function to check whether a string is a US state name.\n",
        "This function should not be case sensitive. It should also strip any whitespace out of the test string."
      ]
    },
    {
      "cell_type": "code",
      "metadata": {
        "tags": [],
        "id": "5mpDm0u-ogxg"
      },
      "source": [
        "def check_state(state):\n",
        "   \n",
        "    state=state.strip()\n",
        "    state=state.upper()\n",
        "    if state in state_names:\n",
        "        return True\n",
        "    else:\n",
        "       return False     \n",
        "       "
      ],
      "execution_count": 92,
      "outputs": []
    },
    {
      "cell_type": "code",
      "metadata": {
        "colab": {
          "base_uri": "https://localhost:8080/"
        },
        "id": "ZnDUULLcDOSg",
        "outputId": "09d0eec7-fbc2-49a5-f7b3-eab591dd0119"
      },
      "source": [
        "check_state('AlaBama')"
      ],
      "execution_count": 46,
      "outputs": [
        {
          "output_type": "execute_result",
          "data": {
            "text/plain": [
              "True"
            ]
          },
          "metadata": {
            "tags": []
          },
          "execution_count": 46
        }
      ]
    },
    {
      "cell_type": "markdown",
      "metadata": {
        "id": "jGZLwXc3ogxg"
      },
      "source": [
        "### 12) Use Pandas' [apply](https://pandas.pydata.org/pandas-docs/stable/generated/pandas.Series.apply.html) function to apply this to each row of the country name series\n",
        "\n",
        "You should produce a new boolean series. (Hint: use `dropna()` to drop rows that have null values before calling apply.)"
      ]
    },
    {
      "cell_type": "code",
      "metadata": {
        "id": "t-CseYVbogxh",
        "colab": {
          "base_uri": "https://localhost:8080/"
        },
        "outputId": "f3cf0704-6ef6-48c9-d1f6-be27d4bc1e5c"
      },
      "source": [
        "Earthquacks.dropna(subset=['Country'])\n",
        "Earthquacks = Earthquacks[Earthquacks['Country'].notna()]\n",
        "\n",
        "Earthquacks['is_state'] = Earthquacks['Country'].apply(check_state)\n"
      ],
      "execution_count": 47,
      "outputs": [
        {
          "output_type": "stream",
          "text": [
            "/usr/local/lib/python3.7/dist-packages/ipykernel_launcher.py:5: SettingWithCopyWarning: \n",
            "A value is trying to be set on a copy of a slice from a DataFrame.\n",
            "Try using .loc[row_indexer,col_indexer] = value instead\n",
            "\n",
            "See the caveats in the documentation: https://pandas.pydata.org/pandas-docs/stable/user_guide/indexing.html#returning-a-view-versus-a-copy\n",
            "  \"\"\"\n"
          ],
          "name": "stderr"
        }
      ]
    },
    {
      "cell_type": "code",
      "metadata": {
        "colab": {
          "base_uri": "https://localhost:8080/",
          "height": 909
        },
        "id": "F_sME6rc5xrz",
        "outputId": "ca6c71d8-889b-4480-9b07-3b64d2f01e01"
      },
      "source": [
        "Earthquacks"
      ],
      "execution_count": 48,
      "outputs": [
        {
          "output_type": "execute_result",
          "data": {
            "text/html": [
              "<div>\n",
              "<style scoped>\n",
              "    .dataframe tbody tr th:only-of-type {\n",
              "        vertical-align: middle;\n",
              "    }\n",
              "\n",
              "    .dataframe tbody tr th {\n",
              "        vertical-align: top;\n",
              "    }\n",
              "\n",
              "    .dataframe thead th {\n",
              "        text-align: right;\n",
              "    }\n",
              "</style>\n",
              "<table border=\"1\" class=\"dataframe\">\n",
              "  <thead>\n",
              "    <tr style=\"text-align: right;\">\n",
              "      <th></th>\n",
              "      <th>time</th>\n",
              "      <th>latitude</th>\n",
              "      <th>longitude</th>\n",
              "      <th>depth</th>\n",
              "      <th>mag</th>\n",
              "      <th>magType</th>\n",
              "      <th>nst</th>\n",
              "      <th>gap</th>\n",
              "      <th>dmin</th>\n",
              "      <th>rms</th>\n",
              "      <th>net</th>\n",
              "      <th>updated</th>\n",
              "      <th>place</th>\n",
              "      <th>type</th>\n",
              "      <th>Country</th>\n",
              "      <th>is_state</th>\n",
              "    </tr>\n",
              "    <tr>\n",
              "      <th>id</th>\n",
              "      <th></th>\n",
              "      <th></th>\n",
              "      <th></th>\n",
              "      <th></th>\n",
              "      <th></th>\n",
              "      <th></th>\n",
              "      <th></th>\n",
              "      <th></th>\n",
              "      <th></th>\n",
              "      <th></th>\n",
              "      <th></th>\n",
              "      <th></th>\n",
              "      <th></th>\n",
              "      <th></th>\n",
              "      <th></th>\n",
              "      <th></th>\n",
              "    </tr>\n",
              "  </thead>\n",
              "  <tbody>\n",
              "    <tr>\n",
              "      <th>ak11155107</th>\n",
              "      <td>2014-01-31 23:53:37.000</td>\n",
              "      <td>60.252000</td>\n",
              "      <td>-152.708100</td>\n",
              "      <td>90.20</td>\n",
              "      <td>1.10</td>\n",
              "      <td>ml</td>\n",
              "      <td>NaN</td>\n",
              "      <td>NaN</td>\n",
              "      <td>NaN</td>\n",
              "      <td>0.2900</td>\n",
              "      <td>ak</td>\n",
              "      <td>2014-02-05T19:34:41.515Z</td>\n",
              "      <td>26km S of Redoubt Volcano, Alaska</td>\n",
              "      <td>earthquake</td>\n",
              "      <td>Alaska</td>\n",
              "      <td>True</td>\n",
              "    </tr>\n",
              "    <tr>\n",
              "      <th>nn00436847</th>\n",
              "      <td>2014-01-31 23:48:35.452</td>\n",
              "      <td>37.070300</td>\n",
              "      <td>-115.130900</td>\n",
              "      <td>0.00</td>\n",
              "      <td>1.33</td>\n",
              "      <td>ml</td>\n",
              "      <td>4.0</td>\n",
              "      <td>171.43</td>\n",
              "      <td>0.342000</td>\n",
              "      <td>0.0247</td>\n",
              "      <td>nn</td>\n",
              "      <td>2014-02-01T01:35:09.000Z</td>\n",
              "      <td>32km S of Alamo, Nevada</td>\n",
              "      <td>earthquake</td>\n",
              "      <td>Nevada</td>\n",
              "      <td>True</td>\n",
              "    </tr>\n",
              "    <tr>\n",
              "      <th>ak11151142</th>\n",
              "      <td>2014-01-31 23:47:24.000</td>\n",
              "      <td>64.671700</td>\n",
              "      <td>-149.252800</td>\n",
              "      <td>7.10</td>\n",
              "      <td>1.30</td>\n",
              "      <td>ml</td>\n",
              "      <td>NaN</td>\n",
              "      <td>NaN</td>\n",
              "      <td>NaN</td>\n",
              "      <td>1.0000</td>\n",
              "      <td>ak</td>\n",
              "      <td>2014-02-01T00:03:53.010Z</td>\n",
              "      <td>12km NNW of North Nenana, Alaska</td>\n",
              "      <td>earthquake</td>\n",
              "      <td>Alaska</td>\n",
              "      <td>True</td>\n",
              "    </tr>\n",
              "    <tr>\n",
              "      <th>ak11151135</th>\n",
              "      <td>2014-01-31 23:30:54.000</td>\n",
              "      <td>63.188700</td>\n",
              "      <td>-148.957500</td>\n",
              "      <td>96.50</td>\n",
              "      <td>0.80</td>\n",
              "      <td>ml</td>\n",
              "      <td>NaN</td>\n",
              "      <td>NaN</td>\n",
              "      <td>NaN</td>\n",
              "      <td>1.0700</td>\n",
              "      <td>ak</td>\n",
              "      <td>2014-01-31T23:41:25.007Z</td>\n",
              "      <td>22km S of Cantwell, Alaska</td>\n",
              "      <td>earthquake</td>\n",
              "      <td>Alaska</td>\n",
              "      <td>True</td>\n",
              "    </tr>\n",
              "    <tr>\n",
              "      <th>ci37171541</th>\n",
              "      <td>2014-01-31 23:30:52.210</td>\n",
              "      <td>32.616833</td>\n",
              "      <td>-115.692500</td>\n",
              "      <td>10.59</td>\n",
              "      <td>1.34</td>\n",
              "      <td>ml</td>\n",
              "      <td>6.0</td>\n",
              "      <td>285.00</td>\n",
              "      <td>0.043210</td>\n",
              "      <td>0.2000</td>\n",
              "      <td>ci</td>\n",
              "      <td>2014-02-01T00:13:20.107Z</td>\n",
              "      <td>10km WNW of Progreso, Mexico</td>\n",
              "      <td>earthquake</td>\n",
              "      <td>Mexico</td>\n",
              "      <td>False</td>\n",
              "    </tr>\n",
              "    <tr>\n",
              "      <th>...</th>\n",
              "      <td>...</td>\n",
              "      <td>...</td>\n",
              "      <td>...</td>\n",
              "      <td>...</td>\n",
              "      <td>...</td>\n",
              "      <td>...</td>\n",
              "      <td>...</td>\n",
              "      <td>...</td>\n",
              "      <td>...</td>\n",
              "      <td>...</td>\n",
              "      <td>...</td>\n",
              "      <td>...</td>\n",
              "      <td>...</td>\n",
              "      <td>...</td>\n",
              "      <td>...</td>\n",
              "      <td>...</td>\n",
              "    </tr>\n",
              "    <tr>\n",
              "      <th>ak11453391</th>\n",
              "      <td>2014-12-01 00:10:16.000</td>\n",
              "      <td>60.963900</td>\n",
              "      <td>-146.762900</td>\n",
              "      <td>14.80</td>\n",
              "      <td>3.80</td>\n",
              "      <td>ml</td>\n",
              "      <td>NaN</td>\n",
              "      <td>NaN</td>\n",
              "      <td>NaN</td>\n",
              "      <td>0.6900</td>\n",
              "      <td>ak</td>\n",
              "      <td>2015-03-24T18:25:07.628Z</td>\n",
              "      <td>29km SW of Valdez, Alaska</td>\n",
              "      <td>earthquake</td>\n",
              "      <td>Alaska</td>\n",
              "      <td>True</td>\n",
              "    </tr>\n",
              "    <tr>\n",
              "      <th>ak11453395</th>\n",
              "      <td>2014-12-01 00:09:39.000</td>\n",
              "      <td>58.869100</td>\n",
              "      <td>-154.415900</td>\n",
              "      <td>108.40</td>\n",
              "      <td>2.40</td>\n",
              "      <td>ml</td>\n",
              "      <td>NaN</td>\n",
              "      <td>NaN</td>\n",
              "      <td>NaN</td>\n",
              "      <td>0.6700</td>\n",
              "      <td>ak</td>\n",
              "      <td>2014-12-10T01:04:25.209Z</td>\n",
              "      <td>102km SSE of Old Iliamna, Alaska</td>\n",
              "      <td>earthquake</td>\n",
              "      <td>Alaska</td>\n",
              "      <td>True</td>\n",
              "    </tr>\n",
              "    <tr>\n",
              "      <th>nc72358451</th>\n",
              "      <td>2014-12-01 00:09:25.350</td>\n",
              "      <td>38.843498</td>\n",
              "      <td>-122.825836</td>\n",
              "      <td>2.37</td>\n",
              "      <td>0.43</td>\n",
              "      <td>md</td>\n",
              "      <td>8.0</td>\n",
              "      <td>107.00</td>\n",
              "      <td>0.008991</td>\n",
              "      <td>0.0300</td>\n",
              "      <td>nc</td>\n",
              "      <td>2014-12-01T01:15:02.814Z</td>\n",
              "      <td>9km WNW of Cobb, California</td>\n",
              "      <td>earthquake</td>\n",
              "      <td>California</td>\n",
              "      <td>True</td>\n",
              "    </tr>\n",
              "    <tr>\n",
              "      <th>ak11453390</th>\n",
              "      <td>2014-12-01 00:05:54.000</td>\n",
              "      <td>65.152100</td>\n",
              "      <td>-148.992000</td>\n",
              "      <td>9.50</td>\n",
              "      <td>0.40</td>\n",
              "      <td>ml</td>\n",
              "      <td>NaN</td>\n",
              "      <td>NaN</td>\n",
              "      <td>NaN</td>\n",
              "      <td>0.6900</td>\n",
              "      <td>ak</td>\n",
              "      <td>2014-12-10T01:03:01.225Z</td>\n",
              "      <td>57km NW of Ester, Alaska</td>\n",
              "      <td>earthquake</td>\n",
              "      <td>Alaska</td>\n",
              "      <td>True</td>\n",
              "    </tr>\n",
              "    <tr>\n",
              "      <th>ak11453389</th>\n",
              "      <td>2014-12-01 00:04:05.000</td>\n",
              "      <td>60.227200</td>\n",
              "      <td>-147.024500</td>\n",
              "      <td>2.50</td>\n",
              "      <td>1.60</td>\n",
              "      <td>ml</td>\n",
              "      <td>NaN</td>\n",
              "      <td>NaN</td>\n",
              "      <td>NaN</td>\n",
              "      <td>0.7300</td>\n",
              "      <td>ak</td>\n",
              "      <td>2014-12-09T02:04:46.894Z</td>\n",
              "      <td>78km WSW of Cordova, Alaska</td>\n",
              "      <td>earthquake</td>\n",
              "      <td>Alaska</td>\n",
              "      <td>True</td>\n",
              "    </tr>\n",
              "  </tbody>\n",
              "</table>\n",
              "<p>116607 rows × 16 columns</p>\n",
              "</div>"
            ],
            "text/plain": [
              "                              time   latitude  ...     Country  is_state\n",
              "id                                             ...                      \n",
              "ak11155107 2014-01-31 23:53:37.000  60.252000  ...      Alaska      True\n",
              "nn00436847 2014-01-31 23:48:35.452  37.070300  ...      Nevada      True\n",
              "ak11151142 2014-01-31 23:47:24.000  64.671700  ...      Alaska      True\n",
              "ak11151135 2014-01-31 23:30:54.000  63.188700  ...      Alaska      True\n",
              "ci37171541 2014-01-31 23:30:52.210  32.616833  ...      Mexico     False\n",
              "...                            ...        ...  ...         ...       ...\n",
              "ak11453391 2014-12-01 00:10:16.000  60.963900  ...      Alaska      True\n",
              "ak11453395 2014-12-01 00:09:39.000  58.869100  ...      Alaska      True\n",
              "nc72358451 2014-12-01 00:09:25.350  38.843498  ...  California      True\n",
              "ak11453390 2014-12-01 00:05:54.000  65.152100  ...      Alaska      True\n",
              "ak11453389 2014-12-01 00:04:05.000  60.227200  ...      Alaska      True\n",
              "\n",
              "[116607 rows x 16 columns]"
            ]
          },
          "metadata": {
            "tags": []
          },
          "execution_count": 48
        }
      ]
    },
    {
      "cell_type": "markdown",
      "metadata": {
        "id": "6o8HZsXPogxi"
      },
      "source": [
        "### 13) reindex this boolean series to match the dataframe's index\n",
        "Fill the null values with `False` using `.fillna()`."
      ]
    },
    {
      "cell_type": "code",
      "metadata": {
        "id": "afwaa-kqogxi",
        "colab": {
          "base_uri": "https://localhost:8080/",
          "height": 994
        },
        "outputId": "2c4ce4f2-69b7-4530-90b9-02b4f2daf2b4"
      },
      "source": [
        "Earthquacks['is_state'].fillna('False',inplace=True)\n",
        "Earthquacks.reindex()"
      ],
      "execution_count": 49,
      "outputs": [
        {
          "output_type": "stream",
          "text": [
            "/usr/local/lib/python3.7/dist-packages/pandas/core/series.py:4536: SettingWithCopyWarning: \n",
            "A value is trying to be set on a copy of a slice from a DataFrame\n",
            "\n",
            "See the caveats in the documentation: https://pandas.pydata.org/pandas-docs/stable/user_guide/indexing.html#returning-a-view-versus-a-copy\n",
            "  downcast=downcast,\n"
          ],
          "name": "stderr"
        },
        {
          "output_type": "execute_result",
          "data": {
            "text/html": [
              "<div>\n",
              "<style scoped>\n",
              "    .dataframe tbody tr th:only-of-type {\n",
              "        vertical-align: middle;\n",
              "    }\n",
              "\n",
              "    .dataframe tbody tr th {\n",
              "        vertical-align: top;\n",
              "    }\n",
              "\n",
              "    .dataframe thead th {\n",
              "        text-align: right;\n",
              "    }\n",
              "</style>\n",
              "<table border=\"1\" class=\"dataframe\">\n",
              "  <thead>\n",
              "    <tr style=\"text-align: right;\">\n",
              "      <th></th>\n",
              "      <th>time</th>\n",
              "      <th>latitude</th>\n",
              "      <th>longitude</th>\n",
              "      <th>depth</th>\n",
              "      <th>mag</th>\n",
              "      <th>magType</th>\n",
              "      <th>nst</th>\n",
              "      <th>gap</th>\n",
              "      <th>dmin</th>\n",
              "      <th>rms</th>\n",
              "      <th>net</th>\n",
              "      <th>updated</th>\n",
              "      <th>place</th>\n",
              "      <th>type</th>\n",
              "      <th>Country</th>\n",
              "      <th>is_state</th>\n",
              "    </tr>\n",
              "    <tr>\n",
              "      <th>id</th>\n",
              "      <th></th>\n",
              "      <th></th>\n",
              "      <th></th>\n",
              "      <th></th>\n",
              "      <th></th>\n",
              "      <th></th>\n",
              "      <th></th>\n",
              "      <th></th>\n",
              "      <th></th>\n",
              "      <th></th>\n",
              "      <th></th>\n",
              "      <th></th>\n",
              "      <th></th>\n",
              "      <th></th>\n",
              "      <th></th>\n",
              "      <th></th>\n",
              "    </tr>\n",
              "  </thead>\n",
              "  <tbody>\n",
              "    <tr>\n",
              "      <th>ak11155107</th>\n",
              "      <td>2014-01-31 23:53:37.000</td>\n",
              "      <td>60.252000</td>\n",
              "      <td>-152.708100</td>\n",
              "      <td>90.20</td>\n",
              "      <td>1.10</td>\n",
              "      <td>ml</td>\n",
              "      <td>NaN</td>\n",
              "      <td>NaN</td>\n",
              "      <td>NaN</td>\n",
              "      <td>0.2900</td>\n",
              "      <td>ak</td>\n",
              "      <td>2014-02-05T19:34:41.515Z</td>\n",
              "      <td>26km S of Redoubt Volcano, Alaska</td>\n",
              "      <td>earthquake</td>\n",
              "      <td>Alaska</td>\n",
              "      <td>True</td>\n",
              "    </tr>\n",
              "    <tr>\n",
              "      <th>nn00436847</th>\n",
              "      <td>2014-01-31 23:48:35.452</td>\n",
              "      <td>37.070300</td>\n",
              "      <td>-115.130900</td>\n",
              "      <td>0.00</td>\n",
              "      <td>1.33</td>\n",
              "      <td>ml</td>\n",
              "      <td>4.0</td>\n",
              "      <td>171.43</td>\n",
              "      <td>0.342000</td>\n",
              "      <td>0.0247</td>\n",
              "      <td>nn</td>\n",
              "      <td>2014-02-01T01:35:09.000Z</td>\n",
              "      <td>32km S of Alamo, Nevada</td>\n",
              "      <td>earthquake</td>\n",
              "      <td>Nevada</td>\n",
              "      <td>True</td>\n",
              "    </tr>\n",
              "    <tr>\n",
              "      <th>ak11151142</th>\n",
              "      <td>2014-01-31 23:47:24.000</td>\n",
              "      <td>64.671700</td>\n",
              "      <td>-149.252800</td>\n",
              "      <td>7.10</td>\n",
              "      <td>1.30</td>\n",
              "      <td>ml</td>\n",
              "      <td>NaN</td>\n",
              "      <td>NaN</td>\n",
              "      <td>NaN</td>\n",
              "      <td>1.0000</td>\n",
              "      <td>ak</td>\n",
              "      <td>2014-02-01T00:03:53.010Z</td>\n",
              "      <td>12km NNW of North Nenana, Alaska</td>\n",
              "      <td>earthquake</td>\n",
              "      <td>Alaska</td>\n",
              "      <td>True</td>\n",
              "    </tr>\n",
              "    <tr>\n",
              "      <th>ak11151135</th>\n",
              "      <td>2014-01-31 23:30:54.000</td>\n",
              "      <td>63.188700</td>\n",
              "      <td>-148.957500</td>\n",
              "      <td>96.50</td>\n",
              "      <td>0.80</td>\n",
              "      <td>ml</td>\n",
              "      <td>NaN</td>\n",
              "      <td>NaN</td>\n",
              "      <td>NaN</td>\n",
              "      <td>1.0700</td>\n",
              "      <td>ak</td>\n",
              "      <td>2014-01-31T23:41:25.007Z</td>\n",
              "      <td>22km S of Cantwell, Alaska</td>\n",
              "      <td>earthquake</td>\n",
              "      <td>Alaska</td>\n",
              "      <td>True</td>\n",
              "    </tr>\n",
              "    <tr>\n",
              "      <th>ci37171541</th>\n",
              "      <td>2014-01-31 23:30:52.210</td>\n",
              "      <td>32.616833</td>\n",
              "      <td>-115.692500</td>\n",
              "      <td>10.59</td>\n",
              "      <td>1.34</td>\n",
              "      <td>ml</td>\n",
              "      <td>6.0</td>\n",
              "      <td>285.00</td>\n",
              "      <td>0.043210</td>\n",
              "      <td>0.2000</td>\n",
              "      <td>ci</td>\n",
              "      <td>2014-02-01T00:13:20.107Z</td>\n",
              "      <td>10km WNW of Progreso, Mexico</td>\n",
              "      <td>earthquake</td>\n",
              "      <td>Mexico</td>\n",
              "      <td>False</td>\n",
              "    </tr>\n",
              "    <tr>\n",
              "      <th>...</th>\n",
              "      <td>...</td>\n",
              "      <td>...</td>\n",
              "      <td>...</td>\n",
              "      <td>...</td>\n",
              "      <td>...</td>\n",
              "      <td>...</td>\n",
              "      <td>...</td>\n",
              "      <td>...</td>\n",
              "      <td>...</td>\n",
              "      <td>...</td>\n",
              "      <td>...</td>\n",
              "      <td>...</td>\n",
              "      <td>...</td>\n",
              "      <td>...</td>\n",
              "      <td>...</td>\n",
              "      <td>...</td>\n",
              "    </tr>\n",
              "    <tr>\n",
              "      <th>ak11453391</th>\n",
              "      <td>2014-12-01 00:10:16.000</td>\n",
              "      <td>60.963900</td>\n",
              "      <td>-146.762900</td>\n",
              "      <td>14.80</td>\n",
              "      <td>3.80</td>\n",
              "      <td>ml</td>\n",
              "      <td>NaN</td>\n",
              "      <td>NaN</td>\n",
              "      <td>NaN</td>\n",
              "      <td>0.6900</td>\n",
              "      <td>ak</td>\n",
              "      <td>2015-03-24T18:25:07.628Z</td>\n",
              "      <td>29km SW of Valdez, Alaska</td>\n",
              "      <td>earthquake</td>\n",
              "      <td>Alaska</td>\n",
              "      <td>True</td>\n",
              "    </tr>\n",
              "    <tr>\n",
              "      <th>ak11453395</th>\n",
              "      <td>2014-12-01 00:09:39.000</td>\n",
              "      <td>58.869100</td>\n",
              "      <td>-154.415900</td>\n",
              "      <td>108.40</td>\n",
              "      <td>2.40</td>\n",
              "      <td>ml</td>\n",
              "      <td>NaN</td>\n",
              "      <td>NaN</td>\n",
              "      <td>NaN</td>\n",
              "      <td>0.6700</td>\n",
              "      <td>ak</td>\n",
              "      <td>2014-12-10T01:04:25.209Z</td>\n",
              "      <td>102km SSE of Old Iliamna, Alaska</td>\n",
              "      <td>earthquake</td>\n",
              "      <td>Alaska</td>\n",
              "      <td>True</td>\n",
              "    </tr>\n",
              "    <tr>\n",
              "      <th>nc72358451</th>\n",
              "      <td>2014-12-01 00:09:25.350</td>\n",
              "      <td>38.843498</td>\n",
              "      <td>-122.825836</td>\n",
              "      <td>2.37</td>\n",
              "      <td>0.43</td>\n",
              "      <td>md</td>\n",
              "      <td>8.0</td>\n",
              "      <td>107.00</td>\n",
              "      <td>0.008991</td>\n",
              "      <td>0.0300</td>\n",
              "      <td>nc</td>\n",
              "      <td>2014-12-01T01:15:02.814Z</td>\n",
              "      <td>9km WNW of Cobb, California</td>\n",
              "      <td>earthquake</td>\n",
              "      <td>California</td>\n",
              "      <td>True</td>\n",
              "    </tr>\n",
              "    <tr>\n",
              "      <th>ak11453390</th>\n",
              "      <td>2014-12-01 00:05:54.000</td>\n",
              "      <td>65.152100</td>\n",
              "      <td>-148.992000</td>\n",
              "      <td>9.50</td>\n",
              "      <td>0.40</td>\n",
              "      <td>ml</td>\n",
              "      <td>NaN</td>\n",
              "      <td>NaN</td>\n",
              "      <td>NaN</td>\n",
              "      <td>0.6900</td>\n",
              "      <td>ak</td>\n",
              "      <td>2014-12-10T01:03:01.225Z</td>\n",
              "      <td>57km NW of Ester, Alaska</td>\n",
              "      <td>earthquake</td>\n",
              "      <td>Alaska</td>\n",
              "      <td>True</td>\n",
              "    </tr>\n",
              "    <tr>\n",
              "      <th>ak11453389</th>\n",
              "      <td>2014-12-01 00:04:05.000</td>\n",
              "      <td>60.227200</td>\n",
              "      <td>-147.024500</td>\n",
              "      <td>2.50</td>\n",
              "      <td>1.60</td>\n",
              "      <td>ml</td>\n",
              "      <td>NaN</td>\n",
              "      <td>NaN</td>\n",
              "      <td>NaN</td>\n",
              "      <td>0.7300</td>\n",
              "      <td>ak</td>\n",
              "      <td>2014-12-09T02:04:46.894Z</td>\n",
              "      <td>78km WSW of Cordova, Alaska</td>\n",
              "      <td>earthquake</td>\n",
              "      <td>Alaska</td>\n",
              "      <td>True</td>\n",
              "    </tr>\n",
              "  </tbody>\n",
              "</table>\n",
              "<p>116607 rows × 16 columns</p>\n",
              "</div>"
            ],
            "text/plain": [
              "                              time   latitude  ...     Country  is_state\n",
              "id                                             ...                      \n",
              "ak11155107 2014-01-31 23:53:37.000  60.252000  ...      Alaska      True\n",
              "nn00436847 2014-01-31 23:48:35.452  37.070300  ...      Nevada      True\n",
              "ak11151142 2014-01-31 23:47:24.000  64.671700  ...      Alaska      True\n",
              "ak11151135 2014-01-31 23:30:54.000  63.188700  ...      Alaska      True\n",
              "ci37171541 2014-01-31 23:30:52.210  32.616833  ...      Mexico     False\n",
              "...                            ...        ...  ...         ...       ...\n",
              "ak11453391 2014-12-01 00:10:16.000  60.963900  ...      Alaska      True\n",
              "ak11453395 2014-12-01 00:09:39.000  58.869100  ...      Alaska      True\n",
              "nc72358451 2014-12-01 00:09:25.350  38.843498  ...  California      True\n",
              "ak11453390 2014-12-01 00:05:54.000  65.152100  ...      Alaska      True\n",
              "ak11453389 2014-12-01 00:04:05.000  60.227200  ...      Alaska      True\n",
              "\n",
              "[116607 rows x 16 columns]"
            ]
          },
          "metadata": {
            "tags": []
          },
          "execution_count": 49
        }
      ]
    },
    {
      "cell_type": "code",
      "metadata": {
        "colab": {
          "base_uri": "https://localhost:8080/"
        },
        "id": "KwF_-8TJ7iwO",
        "outputId": "aa13f7fb-e6b8-4937-bab9-78de3385af7d"
      },
      "source": [
        "Earthquacks.is_state.unique()\n"
      ],
      "execution_count": 50,
      "outputs": [
        {
          "output_type": "execute_result",
          "data": {
            "text/plain": [
              "array([ True, False])"
            ]
          },
          "metadata": {
            "tags": []
          },
          "execution_count": 50
        }
      ]
    },
    {
      "cell_type": "markdown",
      "metadata": {
        "id": "70-fsnuBogxj"
      },
      "source": [
        "### 14) Now re-assign the country column in the DataFrame to `USA` if the row is a state.\n",
        "Also add the state name as a new column."
      ]
    },
    {
      "cell_type": "code",
      "metadata": {
        "id": "4SjwCzmSogxj",
        "colab": {
          "base_uri": "https://localhost:8080/"
        },
        "outputId": "e81f6b8e-b4e3-4bb2-fd75-c2bf6e09486b"
      },
      "source": [
        "filter_state=Earthquacks['is_state']==True\n",
        "Earthquacks.loc[filter_state,'Country']='USA'"
      ],
      "execution_count": 51,
      "outputs": [
        {
          "output_type": "stream",
          "text": [
            "/usr/local/lib/python3.7/dist-packages/pandas/core/indexing.py:1763: SettingWithCopyWarning: \n",
            "A value is trying to be set on a copy of a slice from a DataFrame.\n",
            "Try using .loc[row_indexer,col_indexer] = value instead\n",
            "\n",
            "See the caveats in the documentation: https://pandas.pydata.org/pandas-docs/stable/user_guide/indexing.html#returning-a-view-versus-a-copy\n",
            "  isetter(loc, value)\n"
          ],
          "name": "stderr"
        }
      ]
    },
    {
      "cell_type": "code",
      "metadata": {
        "colab": {
          "base_uri": "https://localhost:8080/"
        },
        "id": "xPnMAu7uAHCH",
        "outputId": "ef774e68-0c67-4f72-8125-d620b3f9bbed"
      },
      "source": [
        "Earthquacks.Country.unique()"
      ],
      "execution_count": 52,
      "outputs": [
        {
          "output_type": "execute_result",
          "data": {
            "text/plain": [
              "array(['USA', 'Mexico', 'Papua New Guinea', 'New Zealand',\n",
              "       'British Virgin Islands', 'Canada', 'Fiji', 'Antarctica', 'Chile',\n",
              "       'Indonesia', 'Solomon Islands', 'Micronesia', 'Russia',\n",
              "       'Philippines', 'Bolivia', 'Greece', 'Japan', 'Puerto Rico', 'Iran',\n",
              "       'Tonga', 'Wallis and Futuna', 'Guam', 'CA', 'Pakistan', 'Burma',\n",
              "       'China', 'Peru', 'Costa Rica', 'East Timor', 'Japan region',\n",
              "       'Northern Mariana Islands', 'El Salvador', 'Samoa', 'Taiwan',\n",
              "       'South Sandwich Islands', 'Colombia', 'Dominican Republic',\n",
              "       'Argentina', 'Saint Helena', 'Tanzania', 'Vanuatu',\n",
              "       'Bosnia and Herzegovina', 'India', 'American Samoa', 'Serbia',\n",
              "       'Nicaragua', 'Republic of the Congo', 'U', ',', 'Guatemala',\n",
              "       'Kyrgyzstan', 'Afghanistan', 'New Caledonia', 'Saudi Arabia',\n",
              "       'Nunoa', 'Romania', 'Italy', 'Panama', 'Albania', 'Haiti',\n",
              "       'Ecuador', 'Tajikistan', 'Venezuela', 'Hungary',\n",
              "       'Christmas Island', 'Bouvet Island', 'Eritrea', 'Turkmenistan',\n",
              "       'Turkey', 'British Indian Ocean Territory', 'Australia', 'Cuba',\n",
              "       'Guadeloupe', 'Azerbaijan', 'Anguilla', 'Mauritania', 'Comoros',\n",
              "       'Honduras', 'Prince Edward Islands', 'Mongolia', 'Cape Verde',\n",
              "       'Yemen', 'Spain', 'Algeria', 'Mauritius', 'Aruba',\n",
              "       'Svalbard and Jan Mayen', 'United Kingdom', 'Barbados',\n",
              "       'Cook Islands', 'Bangladesh', 'South Sudan', 'Greenland',\n",
              "       'Martinique', 'Cyprus', 'Malaysia', 'North Korea',\n",
              "       'Cayman Islands', 'Portugal', 'Ethiopia', 'Uzbekistan',\n",
              "       'India region', 'French Southern Territories', 'Poland', 'Egypt',\n",
              "       'Morocco', 'Slovenia', 'Somalia', 'Zambia', 'Saint Martin',\n",
              "       'Ukraine', 'France', 'Montenegro', 'Bermuda', 'South Africa',\n",
              "       'Saint Kitts and Nevis', 'Sulawesi', 'Iraq', 'Brazil',\n",
              "       'South Georgia and the South Sandwich Islands', 'Czech Republic',\n",
              "       'Aleutian Islands', 'Oman', 'Macedonia', 'Lebanon', 'Jordan',\n",
              "       'Djibouti', 'Leeward Islands', 'Germany', 'Iceland',\n",
              "       'Ecuador region', 'Vietnam', 'Russia region', 'Thailand',\n",
              "       'Jamaica', 'Kazakhstan', 'Norway', 'Bonaire', 'Jersey',\n",
              "       'Laikit II', 'Trinidad and Tobago', 'Burundi', 'Niue', 'Dominica',\n",
              "       'Nepal', 'Barbuda', 'Syria', 'Uganda', 'Sweden', 'Mozambique',\n",
              "       'Saint Vincent and the Grenadines', 'Sudan', 'French Polynesia',\n",
              "       'Palau', 'Democratic Republic of the Congo', 'Bhutan', 'Angola',\n",
              "       'Nunavut', 'Portugal region', 'Malawi', 'Kosovo', 'Saint Lucia',\n",
              "       'Sierra Leone'], dtype=object)"
            ]
          },
          "metadata": {
            "tags": []
          },
          "execution_count": 52
        }
      ]
    },
    {
      "cell_type": "markdown",
      "metadata": {
        "id": "jj8ZfOYEogxk"
      },
      "source": [
        "### 15) Now redo the country count and minimum magnitdue using the corrected \n",
        "\n",
        "1.   List item\n",
        "2.   List item\n",
        "\n",
        "data"
      ]
    },
    {
      "cell_type": "code",
      "metadata": {
        "colab": {
          "base_uri": "https://localhost:8080/"
        },
        "id": "NcE3xpI6Bg5r",
        "outputId": "87bb5d67-04bd-4956-bebc-667c93f67ff1"
      },
      "source": [
        "country_grp=Earthquacks.groupby(['Country'])\n",
        "country_high_Eq=country_grp['type'].apply(lambda x: x.str.contains('earthquake').sum())\n",
        "country_high_Eq.sort_values(ascending=False).head(10)\n"
      ],
      "execution_count": 53,
      "outputs": [
        {
          "output_type": "execute_result",
          "data": {
            "text/plain": [
              "Country\n",
              "USA                 95497\n",
              "Puerto Rico          2284\n",
              "Indonesia            2120\n",
              "Papua New Guinea     1356\n",
              "Chile                1191\n",
              "Japan                1150\n",
              "New Zealand           762\n",
              "Philippines           749\n",
              "Mexico                667\n",
              "Fiji                  666\n",
              "Name: type, dtype: int64"
            ]
          },
          "metadata": {
            "tags": []
          },
          "execution_count": 53
        }
      ]
    },
    {
      "cell_type": "code",
      "metadata": {
        "colab": {
          "base_uri": "https://localhost:8080/"
        },
        "id": "lkoPXaHTqsZC",
        "outputId": "bc0dae30-8e22-4b69-d50d-60e614340531"
      },
      "source": [
        "Earthquacks.groupby('Country')['mag'].max().sort_values(ascending=True).head(10)"
      ],
      "execution_count": 54,
      "outputs": [
        {
          "output_type": "execute_result",
          "data": {
            "text/plain": [
              "Country\n",
              "Sierra Leone        0.0\n",
              "CA                  2.2\n",
              "Aleutian Islands    2.6\n",
              "Jamaica             3.3\n",
              "Saint Martin        3.3\n",
              "Germany             3.6\n",
              "Bonaire             3.6\n",
              "Czech Republic      3.8\n",
              "Leeward Islands     3.8\n",
              "U                   3.9\n",
              "Name: mag, dtype: float64"
            ]
          },
          "metadata": {
            "tags": []
          },
          "execution_count": 54
        }
      ]
    },
    {
      "cell_type": "markdown",
      "metadata": {
        "id": "xiKJn3xOogxl"
      },
      "source": [
        "### 16) Create a filtered dataset that only has earthquakes of magnitude 4 or larger"
      ]
    },
    {
      "cell_type": "code",
      "metadata": {
        "tags": [],
        "id": "AjvpdPx1ogxl"
      },
      "source": [
        "Mag_filter=Earthquacks['mag'] >= 4.0\n",
        "Filtered_Mag_dataset=Earthquacks[Mag_filter]\n"
      ],
      "execution_count": 55,
      "outputs": []
    },
    {
      "cell_type": "markdown",
      "metadata": {
        "id": "ELARdeU-ogxm"
      },
      "source": [
        "### 17) Analyze the distribution of the Earthquake magnitudes in the filtered distribution\n",
        "\n",
        "Make a histogram of the Earthquake count versus magnitude. Make sure to use a Logarithmic scale. What sort of relationship do you see?"
      ]
    },
    {
      "cell_type": "code",
      "metadata": {
        "id": "DAOCHzakogxm",
        "colab": {
          "base_uri": "https://localhost:8080/",
          "height": 315
        },
        "outputId": "8ef490be-766c-4bac-862a-555a0eeca3ef"
      },
      "source": [
        "Filtered_Mag_dataset.hist(column='mag',log=True)"
      ],
      "execution_count": 56,
      "outputs": [
        {
          "output_type": "execute_result",
          "data": {
            "text/plain": [
              "array([[<matplotlib.axes._subplots.AxesSubplot object at 0x7f458b564490>]],\n",
              "      dtype=object)"
            ]
          },
          "metadata": {
            "tags": []
          },
          "execution_count": 56
        },
        {
          "output_type": "display_data",
          "data": {
            "image/png": "[encoded data removed]",
            "text/plain": [
              "<Figure size 432x288 with 1 Axes>"
            ]
          },
          "metadata": {
            "tags": [],
            "needs_background": "light"
          }
        }
      ]
    },
    {
      "cell_type": "markdown",
      "metadata": {
        "id": "oYs8ibqZr2e4"
      },
      "source": [
        "The histogram shows that the distribution of Earthquacks with mag 4.0 is much, however, by increasing the mag the distribution is decreasing"
      ]
    },
    {
      "cell_type": "markdown",
      "metadata": {
        "id": "Xj8yWtiIogxm"
      },
      "source": [
        "### 18) Visualize the locations of earthquakes by making a scatterplot of their latitude and longitude.\n",
        "\n",
        "Use the filtered data. Color it by magnitude. Make it pretty"
      ]
    },
    {
      "cell_type": "code",
      "metadata": {
        "id": "CYmj22UTogxm",
        "colab": {
          "base_uri": "https://localhost:8080/",
          "height": 271
        },
        "outputId": "473a8e9b-78cd-4e8d-fab8-96813d65d965"
      },
      "source": [
        "Filtered_Mag_dataset.plot(kind='scatter', x='latitude',y='longitude', grid=True,c='mag',colormap='Blues')"
      ],
      "execution_count": 57,
      "outputs": [
        {
          "output_type": "execute_result",
          "data": {
            "text/plain": [
              "<matplotlib.axes._subplots.AxesSubplot at 0x7f4592122a10>"
            ]
          },
          "metadata": {
            "tags": []
          },
          "execution_count": 57
        },
        {
          "output_type": "display_data",
          "data": {
            "image/png": "[encoded data removed]",
            "text/plain": [
              "<Figure size 432x288 with 2 Axes>"
            ]
          },
          "metadata": {
            "tags": [],
            "needs_background": "light"
          }
        }
      ]
    },
    {
      "cell_type": "markdown",
      "metadata": {
        "id": "aZB49zbpogxn"
      },
      "source": [
        "### 19) Do the same for depth"
      ]
    },
    {
      "cell_type": "code",
      "metadata": {
        "tags": [],
        "id": "vKwWeTbYogxo",
        "colab": {
          "base_uri": "https://localhost:8080/",
          "height": 271
        },
        "outputId": "0aed2796-6de3-497a-c573-ef06cadb9c6a"
      },
      "source": [
        "Filtered_Mag_dataset.plot(kind='scatter', x='latitude',y='longitude', grid=True,c='depth',colormap='gist_rainbow')"
      ],
      "execution_count": 58,
      "outputs": [
        {
          "output_type": "execute_result",
          "data": {
            "text/plain": [
              "<matplotlib.axes._subplots.AxesSubplot at 0x7f458c832390>"
            ]
          },
          "metadata": {
            "tags": []
          },
          "execution_count": 58
        },
        {
          "output_type": "display_data",
          "data": {
            "image/png": "[encoded data removed]",
            "text/plain": [
              "<Figure size 432x288 with 2 Axes>"
            ]
          },
          "metadata": {
            "tags": [],
            "needs_background": "light"
          }
        }
      ]
    }
  ]
}